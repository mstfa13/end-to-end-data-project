{
 "cells": [
  {
   "cell_type": "code",
   "execution_count": 0,
   "metadata": {
    "application/vnd.databricks.v1+cell": {
     "cellMetadata": {
      "byteLimit": 2048000,
      "rowLimit": 10000
     },
     "inputWidgets": {},
     "nuid": "b27caf9c-500d-4a85-98c6-925eeb510d33",
     "showTitle": false,
     "title": ""
    }
   },
   "outputs": [],
   "source": [
    "bikes_account_key = dbutils.secrets.get(scope = \"bikes-scope\", key = \"account-key\")\n",
    "spark.conf.set(\n",
    "    \"fs.azure.account.key.adlsbikestoreinterns.blob.core.windows.net\",\n",
    "    bikes_account_key\n",
    ")\n",
    "spark.conf.set(\"fs.azure.account.key.adlsbikestoreinterns.blob.core.windows.net\", \"2A7Fbw9UkJ7R03r/x+uw6/JNClb4b73dpL+KGsIVfAOpJfRVBjH1rjMC2xLTj4uVCR/j8qgXfabp+AStWjlnNg==\")\n",
    "dbutils.secrets.listScopes()\n",
    "dbutils.secrets.list(scope = \"bikes-scope\")\n",
    "bikes_account_key = dbutils.secrets.get(scope = \"bikes-scope\", key = \"account-key\")\n",
    "spark.conf.set(\n",
    "    \"fs.azure.account.key.adlsbikestoreinterns.blob.core.windows.net\",\n",
    "    bikes_account_key\n",
    ")"
   ]
  },
  {
   "cell_type": "code",
   "execution_count": 0,
   "metadata": {
    "application/vnd.databricks.v1+cell": {
     "cellMetadata": {
      "byteLimit": 2048000,
      "rowLimit": 10000
     },
     "inputWidgets": {},
     "nuid": "cbcaddce-bae2-4fed-b413-a26add1befd2",
     "showTitle": false,
     "title": ""
    }
   },
   "outputs": [],
   "source": [
    "stage1_source_path = f\"wasbs://dlbikestorestage1@adlsbikestoreinterns.blob.core.windows.net/mostafa\"\n",
    "stage2_source_path = f\"wasbs://dlbikestorestage2@adlsbikestoreinterns.blob.core.windows.net/mostafa\"\n",
    "infomart_path = f\"wasbs://dlbikestoreinfomart@adlsbikestoreinterns.blob.core.windows.net/mostafa/store_dim\"\n"
   ]
  },
  {
   "cell_type": "code",
   "execution_count": 0,
   "metadata": {
    "application/vnd.databricks.v1+cell": {
     "cellMetadata": {
      "byteLimit": 2048000,
      "rowLimit": 10000
     },
     "inputWidgets": {},
     "nuid": "d3f178a8-356b-4682-b71f-bae99c0c2f00",
     "showTitle": false,
     "title": ""
    }
   },
   "outputs": [],
   "source": [
    "store_dim = spark.read.format('delta').load(stage1_source_path + '/stores/')"
   ]
  },
  {
   "cell_type": "code",
   "execution_count": 0,
   "metadata": {
    "application/vnd.databricks.v1+cell": {
     "cellMetadata": {
      "byteLimit": 2048000,
      "rowLimit": 10000
     },
     "inputWidgets": {},
     "nuid": "ac786814-f81b-4340-bcc8-2813ca71548f",
     "showTitle": false,
     "title": ""
    }
   },
   "outputs": [],
   "source": [
    "store_dim.write.format('delta').mode('overwrite').save(infomart_path)"
   ]
  },
  {
   "cell_type": "code",
   "execution_count": 0,
   "metadata": {
    "application/vnd.databricks.v1+cell": {
     "cellMetadata": {},
     "inputWidgets": {},
     "nuid": "d351f50a-d1a5-4908-93c4-cfd467328454",
     "showTitle": false,
     "title": ""
    }
   },
   "outputs": [],
   "source": []
  }
 ],
 "metadata": {
  "application/vnd.databricks.v1+notebook": {
   "dashboards": [],
   "environmentMetadata": null,
   "language": "python",
   "notebookMetadata": {
    "pythonIndentUnit": 4
   },
   "notebookName": "store_dim",
   "widgets": {}
  }
 },
 "nbformat": 4,
 "nbformat_minor": 0
}
