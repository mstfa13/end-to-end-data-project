{
 "cells": [
  {
   "cell_type": "code",
   "execution_count": 0,
   "metadata": {
    "application/vnd.databricks.v1+cell": {
     "cellMetadata": {
      "byteLimit": 2048000,
      "rowLimit": 10000
     },
     "inputWidgets": {},
     "nuid": "6755dcec-8e35-4eb6-8606-3521af05c904",
     "showTitle": false,
     "title": ""
    }
   },
   "outputs": [],
   "source": [
    "bikes_account_key = dbutils.secrets.get(scope = \"bikes-scope\", key = \"account-key\")\n",
    "spark.conf.set(\n",
    "    \"fs.azure.account.key.adlsbikestoreinterns.blob.core.windows.net\",\n",
    "    bikes_account_key\n",
    ")\n",
    "spark.conf.set(\"fs.azure.account.key.adlsbikestoreinterns.blob.core.windows.net\", \"2A7Fbw9UkJ7R03r/x+uw6/JNClb4b73dpL+KGsIVfAOpJfRVBjH1rjMC2xLTj4uVCR/j8qgXfabp+AStWjlnNg==\")\n",
    "dbutils.secrets.listScopes()\n",
    "dbutils.secrets.list(scope = \"bikes-scope\")\n",
    "bikes_account_key = dbutils.secrets.get(scope = \"bikes-scope\", key = \"account-key\")\n",
    "spark.conf.set(\n",
    "    \"fs.azure.account.key.adlsbikestoreinterns.blob.core.windows.net\",\n",
    "    bikes_account_key\n",
    ")"
   ]
  },
  {
   "cell_type": "code",
   "execution_count": 0,
   "metadata": {
    "application/vnd.databricks.v1+cell": {
     "cellMetadata": {
      "byteLimit": 2048000,
      "rowLimit": 10000
     },
     "inputWidgets": {},
     "nuid": "99e10cc2-4ec5-4191-8cd1-0e8344395e38",
     "showTitle": false,
     "title": ""
    }
   },
   "outputs": [],
   "source": [
    "stage2_source_path = f\"wasbs://dlbikestorestage2@adlsbikestoreinterns.blob.core.windows.net/mostafa\"\n",
    "infomart_path = f\"wasbs://dlbikestoreinfomart@adlsbikestoreinterns.blob.core.windows.net/mostafa/status_dim\""
   ]
  },
  {
   "cell_type": "code",
   "execution_count": 0,
   "metadata": {
    "application/vnd.databricks.v1+cell": {
     "cellMetadata": {
      "byteLimit": 2048000,
      "rowLimit": 10000
     },
     "inputWidgets": {},
     "nuid": "bd3b0638-c00c-4472-aaaa-fee1f25ff8bd",
     "showTitle": false,
     "title": ""
    }
   },
   "outputs": [],
   "source": [
    "status_dim = spark.read.format('delta').load(stage2_source_path + '/status_lookup')"
   ]
  },
  {
   "cell_type": "code",
   "execution_count": 0,
   "metadata": {
    "application/vnd.databricks.v1+cell": {
     "cellMetadata": {
      "byteLimit": 2048000,
      "rowLimit": 10000
     },
     "inputWidgets": {},
     "nuid": "24f1a99b-24e3-408e-a071-17e2a53f3ca5",
     "showTitle": false,
     "title": ""
    }
   },
   "outputs": [],
   "source": [
    "status_dim.write.format(\"delta\").mode(\"overwrite\").option(\"overwriteSchema\", \"true\").save(infomart_path)"
   ]
  },
  {
   "cell_type": "code",
   "execution_count": 0,
   "metadata": {
    "application/vnd.databricks.v1+cell": {
     "cellMetadata": {},
     "inputWidgets": {},
     "nuid": "2e602f4c-0774-46cb-ac19-4a89316722ca",
     "showTitle": false,
     "title": ""
    }
   },
   "outputs": [],
   "source": []
  }
 ],
 "metadata": {
  "application/vnd.databricks.v1+notebook": {
   "dashboards": [],
   "environmentMetadata": null,
   "language": "python",
   "notebookMetadata": {
    "pythonIndentUnit": 4
   },
   "notebookName": "status_dim",
   "widgets": {}
  }
 },
 "nbformat": 4,
 "nbformat_minor": 0
}
