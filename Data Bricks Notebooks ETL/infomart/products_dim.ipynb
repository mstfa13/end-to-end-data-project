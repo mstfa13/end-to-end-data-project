{
 "cells": [
  {
   "cell_type": "code",
   "execution_count": 0,
   "metadata": {
    "application/vnd.databricks.v1+cell": {
     "cellMetadata": {
      "byteLimit": 2048000,
      "rowLimit": 10000
     },
     "inputWidgets": {},
     "nuid": "af7c5dcd-084b-422d-afd6-dce9c83db30a",
     "showTitle": false,
     "title": ""
    }
   },
   "outputs": [],
   "source": []
  },
  {
   "cell_type": "code",
   "execution_count": 0,
   "metadata": {
    "application/vnd.databricks.v1+cell": {
     "cellMetadata": {
      "byteLimit": 2048000,
      "rowLimit": 10000
     },
     "inputWidgets": {},
     "nuid": "88f707bd-8d6f-4517-8e8f-f6f2493507df",
     "showTitle": false,
     "title": ""
    }
   },
   "outputs": [],
   "source": [
    "stage1_source_path = f\"wasbs://dlbikestorestage1@adlsbikestoreinterns.blob.core.windows.net/mostafa\"\n",
    "stage2_source_path = f\"wasbs://dlbikestorestage2@adlsbikestoreinterns.blob.core.windows.net/mostafa\"\n",
    "infomart_path = f\"wasbs://dlbikestoreinfomart@adlsbikestoreinterns.blob.core.windows.net/mostafa/product_dim\"\n"
   ]
  },
  {
   "cell_type": "code",
   "execution_count": 0,
   "metadata": {
    "application/vnd.databricks.v1+cell": {
     "cellMetadata": {
      "byteLimit": 2048000,
      "rowLimit": 10000
     },
     "inputWidgets": {},
     "nuid": "3267f632-8748-4072-b0b8-1cb4399b676f",
     "showTitle": false,
     "title": ""
    }
   },
   "outputs": [],
   "source": [
    "product_df = spark.read.format('delta').load(stage1_source_path + '/products')\n",
    "brands_df = spark.read.format('delta').load(stage1_source_path + '/brands')\n",
    "categories_df = spark.read.format('delta').load(stage1_source_path + '/categories')\n"
   ]
  },
  {
   "cell_type": "code",
   "execution_count": 0,
   "metadata": {
    "application/vnd.databricks.v1+cell": {
     "cellMetadata": {
      "byteLimit": 2048000,
      "rowLimit": 10000
     },
     "inputWidgets": {},
     "nuid": "d445d123-913a-472a-b05d-9479033deacf",
     "showTitle": false,
     "title": ""
    }
   },
   "outputs": [],
   "source": [
    "product_df = product_df.drop(\"timestamp\", \"process_id\")\n",
    "product_dim = product_df.join(brands_df, product_df.brand_id == brands_df.brand_id, \"left\").drop('timestamp', 'process_id')\n",
    "product_dim = product_dim.join(categories_df, product_dim.category_id == categories_df.category_id, \"left\")\n",
    "product_dim = product_dim.drop('brand_id','category_id','source')\n",
    "product_dim.drop('timestamp', 'process_id')\n",
    "display(product_dim)"
   ]
  },
  {
   "cell_type": "code",
   "execution_count": 0,
   "metadata": {
    "application/vnd.databricks.v1+cell": {
     "cellMetadata": {
      "byteLimit": 2048000,
      "rowLimit": 10000
     },
     "inputWidgets": {},
     "nuid": "fda6df0d-b97a-4496-a895-5f106a982d66",
     "showTitle": false,
     "title": ""
    }
   },
   "outputs": [],
   "source": [
    "# Remove duplicate columns\n",
    "product_dim = product_dim.toDF(\n",
    "    *[f\"{col}_{i}\" if col == \"time_stamp\" else col for i, col in enumerate(product_dim.columns)]\n",
    ")\n",
    "\n",
    "# Write the DataFrame to Delta format\n",
    "product_dim.write.format(\"delta\").mode(\"overwrite\").option(\"overwriteSchema\", \"true\").save(infomart_path)"
   ]
  },
  {
   "cell_type": "code",
   "execution_count": 0,
   "metadata": {
    "application/vnd.databricks.v1+cell": {
     "cellMetadata": {
      "byteLimit": 2048000,
      "rowLimit": 10000
     },
     "inputWidgets": {},
     "nuid": "3bde5c6d-b10d-413d-a96d-c74b6ba5ab83",
     "showTitle": false,
     "title": ""
    }
   },
   "outputs": [],
   "source": []
  }
 ],
 "metadata": {
  "application/vnd.databricks.v1+notebook": {
   "dashboards": [],
   "environmentMetadata": null,
   "language": "python",
   "notebookMetadata": {
    "pythonIndentUnit": 4
   },
   "notebookName": "products_dim",
   "widgets": {}
  }
 },
 "nbformat": 4,
 "nbformat_minor": 0
}
