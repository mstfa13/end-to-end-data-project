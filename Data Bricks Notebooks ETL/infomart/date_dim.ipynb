{
 "cells": [
  {
   "cell_type": "code",
   "execution_count": 0,
   "metadata": {
    "application/vnd.databricks.v1+cell": {
     "cellMetadata": {
      "byteLimit": 2048000,
      "rowLimit": 10000
     },
     "inputWidgets": {},
     "nuid": "c523ac55-edcc-45fe-9548-8a88e299f7e2",
     "showTitle": false,
     "title": ""
    }
   },
   "outputs": [],
   "source": [
    "bikes_account_key = dbutils.secrets.get(scope = \"bikes-scope\", key = \"account-key\")\n",
    "spark.conf.set(\n",
    "    \"fs.azure.account.key.adlsbikestoreinterns.blob.core.windows.net\",\n",
    "    bikes_account_key\n",
    ")\n",
    "spark.conf.set(\"fs.azure.account.key.adlsbikestoreinterns.blob.core.windows.net\", \"2A7Fbw9UkJ7R03r/x+uw6/JNClb4b73dpL+KGsIVfAOpJfRVBjH1rjMC2xLTj4uVCR/j8qgXfabp+AStWjlnNg==\")\n",
    "dbutils.secrets.listScopes()\n",
    "dbutils.secrets.list(scope = \"bikes-scope\")\n",
    "bikes_account_key = dbutils.secrets.get(scope = \"bikes-scope\", key = \"account-key\")\n",
    "spark.conf.set(\n",
    "    \"fs.azure.account.key.adlsbikestoreinterns.blob.core.windows.net\",\n",
    "    bikes_account_key\n",
    ")"
   ]
  },
  {
   "cell_type": "code",
   "execution_count": 0,
   "metadata": {
    "application/vnd.databricks.v1+cell": {
     "cellMetadata": {
      "byteLimit": 2048000,
      "rowLimit": 10000
     },
     "inputWidgets": {},
     "nuid": "48be5504-d50d-419b-adc2-caf392019001",
     "showTitle": false,
     "title": ""
    }
   },
   "outputs": [],
   "source": [
    "from pyspark.sql.functions import col, year, quarter, month, weekofyear, dayofmonth, dayofweek, date_format"
   ]
  },
  {
   "cell_type": "code",
   "execution_count": 0,
   "metadata": {
    "application/vnd.databricks.v1+cell": {
     "cellMetadata": {
      "byteLimit": 2048000,
      "rowLimit": 10000
     },
     "inputWidgets": {},
     "nuid": "86eb92f6-30f0-4f58-bcb9-877791e8245c",
     "showTitle": false,
     "title": ""
    }
   },
   "outputs": [],
   "source": [
    "stage2_source_path = f\"wasbs://dlbikestorestage2@adlsbikestoreinterns.blob.core.windows.net/mostafa\"\n",
    "infomart_path = f\"wasbs://dlbikestoreinfomart@adlsbikestoreinterns.blob.core.windows.net/mostafa/date_dim\"\n",
    "date_dim = spark.read.format('delta').load(stage2_source_path + '/date_lookup')"
   ]
  },
  {
   "cell_type": "code",
   "execution_count": 0,
   "metadata": {
    "application/vnd.databricks.v1+cell": {
     "cellMetadata": {
      "byteLimit": 2048000,
      "rowLimit": 10000
     },
     "inputWidgets": {},
     "nuid": "d9852868-793b-491c-8fd4-18318354a949",
     "showTitle": false,
     "title": ""
    }
   },
   "outputs": [],
   "source": [
    "display(date_dim)"
   ]
  },
  {
   "cell_type": "code",
   "execution_count": 0,
   "metadata": {
    "application/vnd.databricks.v1+cell": {
     "cellMetadata": {
      "byteLimit": 2048000,
      "rowLimit": 10000
     },
     "inputWidgets": {},
     "nuid": "d32417dd-7427-421f-92be-a6e929df6ac8",
     "showTitle": false,
     "title": ""
    }
   },
   "outputs": [],
   "source": [
    "date_dim = date_dim \\\n",
    "    .withColumn(\"year\", year(col(\"date\"))) \\\n",
    "    .withColumn(\"quarter\", quarter(col(\"date\"))) \\\n",
    "    .withColumn(\"month\", month(col(\"date\"))) \\\n",
    "    .withColumn(\"week\", weekofyear(col(\"date\"))) \\\n",
    "    .withColumn(\"day\", dayofmonth(col(\"date\"))) \\\n",
    "    .withColumn(\"day_of_week\", dayofweek(col(\"date\"))) \\\n",
    "    .withColumn(\"day_name\", date_format(col(\"date\"), \"EEEE\"))"
   ]
  },
  {
   "cell_type": "code",
   "execution_count": 0,
   "metadata": {
    "application/vnd.databricks.v1+cell": {
     "cellMetadata": {
      "byteLimit": 2048000,
      "rowLimit": 10000
     },
     "inputWidgets": {},
     "nuid": "20d6c418-7cb3-438b-a8f5-f3af96e120e3",
     "showTitle": false,
     "title": ""
    }
   },
   "outputs": [],
   "source": [
    "date_dim.write.format(\"delta\").mode(\"overwrite\").option(\"overwriteSchema\", \"true\").save(infomart_path)"
   ]
  },
  {
   "cell_type": "code",
   "execution_count": 0,
   "metadata": {
    "application/vnd.databricks.v1+cell": {
     "cellMetadata": {},
     "inputWidgets": {},
     "nuid": "22726af6-84ab-4d25-b853-65eda0221f24",
     "showTitle": false,
     "title": ""
    }
   },
   "outputs": [],
   "source": []
  }
 ],
 "metadata": {
  "application/vnd.databricks.v1+notebook": {
   "dashboards": [],
   "environmentMetadata": null,
   "language": "python",
   "notebookMetadata": {
    "pythonIndentUnit": 4
   },
   "notebookName": "date_dim",
   "widgets": {}
  }
 },
 "nbformat": 4,
 "nbformat_minor": 0
}
