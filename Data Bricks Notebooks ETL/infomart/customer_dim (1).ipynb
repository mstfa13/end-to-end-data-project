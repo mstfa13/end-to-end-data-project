{
 "cells": [
  {
   "cell_type": "code",
   "execution_count": 0,
   "metadata": {
    "application/vnd.databricks.v1+cell": {
     "cellMetadata": {
      "byteLimit": 2048000,
      "rowLimit": 10000
     },
     "inputWidgets": {},
     "nuid": "bf8624c2-d205-4789-b797-428d5843b5b0",
     "showTitle": false,
     "title": ""
    }
   },
   "outputs": [],
   "source": []
  },
  {
   "cell_type": "code",
   "execution_count": 0,
   "metadata": {
    "application/vnd.databricks.v1+cell": {
     "cellMetadata": {
      "byteLimit": 2048000,
      "rowLimit": 10000
     },
     "inputWidgets": {},
     "nuid": "d7921c31-41c2-474f-8f0c-022326770a08",
     "showTitle": false,
     "title": ""
    }
   },
   "outputs": [],
   "source": [
    "stage1_source_path = f\"wasbs://dlbikestorestage1@adlsbikestoreinterns.blob.core.windows.net/mostafa\"\n",
    "stage2_source_path = f\"wasbs://dlbikestorestage2@adlsbikestoreinterns.blob.core.windows.net/mostafa\"\n",
    "infomart_path = f\"wasbs://dlbikestoreinfomart@adlsbikestoreinterns.blob.core.windows.net/mostafa/customer_dim\""
   ]
  },
  {
   "cell_type": "code",
   "execution_count": 0,
   "metadata": {
    "application/vnd.databricks.v1+cell": {
     "cellMetadata": {
      "byteLimit": 2048000,
      "rowLimit": 10000
     },
     "inputWidgets": {},
     "nuid": "652b7358-11f0-4a61-ac95-3cf8ea23e97e",
     "showTitle": false,
     "title": ""
    }
   },
   "outputs": [],
   "source": [
    "customer_dim = spark.read.format('delta').load(stage1_source_path + '/customers/')"
   ]
  },
  {
   "cell_type": "code",
   "execution_count": 0,
   "metadata": {
    "application/vnd.databricks.v1+cell": {
     "cellMetadata": {
      "byteLimit": 2048000,
      "rowLimit": 10000
     },
     "inputWidgets": {},
     "nuid": "dcb69844-1823-4405-9956-21cf21519cda",
     "showTitle": false,
     "title": ""
    }
   },
   "outputs": [],
   "source": [
    "customer_dim.write.format('delta').mode('overwrite').option('overwriteSchema', 'true').save(infomart_path)"
   ]
  },
  {
   "cell_type": "code",
   "execution_count": 0,
   "metadata": {
    "application/vnd.databricks.v1+cell": {
     "cellMetadata": {},
     "inputWidgets": {},
     "nuid": "2fb93d26-0838-4dae-b424-c764680aba3f",
     "showTitle": false,
     "title": ""
    }
   },
   "outputs": [],
   "source": []
  }
 ],
 "metadata": {
  "application/vnd.databricks.v1+notebook": {
   "dashboards": [],
   "environmentMetadata": null,
   "language": "python",
   "notebookMetadata": {
    "pythonIndentUnit": 4
   },
   "notebookName": "customer_dim",
   "widgets": {}
  }
 },
 "nbformat": 4,
 "nbformat_minor": 0
}
