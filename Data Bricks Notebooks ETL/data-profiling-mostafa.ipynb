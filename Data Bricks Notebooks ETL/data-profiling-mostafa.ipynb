{
 "cells": [
  {
   "cell_type": "code",
   "execution_count": 0,
   "metadata": {
    "application/vnd.databricks.v1+cell": {
     "cellMetadata": {
      "byteLimit": 2048000,
      "rowLimit": 10000
     },
     "inputWidgets": {},
     "nuid": "ecafa289-aa00-4aed-8e46-04578258d19f",
     "showTitle": false,
     "title": ""
    }
   },
   "outputs": [],
   "source": []
  },
  {
   "cell_type": "code",
   "execution_count": 0,
   "metadata": {
    "application/vnd.databricks.v1+cell": {
     "cellMetadata": {
      "byteLimit": 2048000,
      "rowLimit": 10000
     },
     "inputWidgets": {},
     "nuid": "9a77e1bb-151c-4bcb-8e22-da6d2c2ed322",
     "showTitle": false,
     "title": ""
    }
   },
   "outputs": [],
   "source": []
  },
  {
   "cell_type": "code",
   "execution_count": 0,
   "metadata": {
    "application/vnd.databricks.v1+cell": {
     "cellMetadata": {
      "byteLimit": 2048000,
      "rowLimit": 10000
     },
     "inputWidgets": {},
     "nuid": "e667dd84-1a5c-468c-818e-6845b615007b",
     "showTitle": false,
     "title": ""
    }
   },
   "outputs": [
    {
     "output_type": "stream",
     "name": "stdout",
     "output_type": "stream",
     "text": [
      "[REDACTED]\n"
     ]
    }
   ],
   "source": []
  },
  {
   "cell_type": "code",
   "execution_count": 0,
   "metadata": {
    "application/vnd.databricks.v1+cell": {
     "cellMetadata": {
      "byteLimit": 2048000,
      "rowLimit": 10000
     },
     "inputWidgets": {},
     "nuid": "4e447fc6-91bf-470a-a83b-9c421a22aa62",
     "showTitle": false,
     "title": ""
    }
   },
   "outputs": [],
   "source": [
    "from pyspark.sql import SparkSession\n",
    "from pyspark.sql import DataFrame\n",
    "from pyspark.sql.functions import col"
   ]
  },
  {
   "cell_type": "code",
   "execution_count": 0,
   "metadata": {
    "application/vnd.databricks.v1+cell": {
     "cellMetadata": {
      "byteLimit": 2048000,
      "rowLimit": 10000
     },
     "inputWidgets": {},
     "nuid": "451ae99f-9066-4bdc-b7bc-d3ec87999144",
     "showTitle": false,
     "title": ""
    }
   },
   "outputs": [],
   "source": [
    "spark = SparkSession.builder.appName(\"data_profiling\").getOrCreate()"
   ]
  },
  {
   "cell_type": "code",
   "execution_count": 0,
   "metadata": {
    "application/vnd.databricks.v1+cell": {
     "cellMetadata": {
      "byteLimit": 2048000,
      "rowLimit": 10000
     },
     "inputWidgets": {},
     "nuid": "ba0f317d-ab9c-4a0c-8318-633b47e8976d",
     "showTitle": false,
     "title": ""
    }
   },
   "outputs": [],
   "source": [
    "metadata = spark.read.format(\"csv\").option(\"header\", \"true\").load(\"wasbs://dlbikestorelanding@adlsbikestoreinterns.blob.core.windows.net/Mostafa_Landing/metadata/metadata_mostafa.csv\")"
   ]
  },
  {
   "cell_type": "code",
   "execution_count": 0,
   "metadata": {
    "application/vnd.databricks.v1+cell": {
     "cellMetadata": {
      "byteLimit": 2048000,
      "rowLimit": 10000
     },
     "inputWidgets": {},
     "nuid": "06e5f03e-67d3-4c3d-a0e5-06012e397653",
     "showTitle": false,
     "title": ""
    }
   },
   "outputs": [
    {
     "output_type": "display_data",
     "data": {
      "text/html": [
       "<style scoped>\n",
       "  .table-result-container {\n",
       "    max-height: 300px;\n",
       "    overflow: auto;\n",
       "  }\n",
       "  table, th, td {\n",
       "    border: 1px solid black;\n",
       "    border-collapse: collapse;\n",
       "  }\n",
       "  th, td {\n",
       "    padding: 5px;\n",
       "  }\n",
       "  th {\n",
       "    text-align: left;\n",
       "  }\n",
       "</style><div class='table-result-container'><table class='table-result'><thead style='background-color: white'><tr><th>table_id</th><th>source_type</th><th>source_filename</th><th>destination_filename</th><th>destination_path</th><th>primary_key</th><th>table_column</th><th>table_name</th><th>is_PK?</th><th>can_be_nulled</th><th>data_type</th><th>unique?</th></tr></thead><tbody><tr><td>brands_stg</td><td>stg</td><td>brands</td><td>brands</td><td>Mostafa_Landing/brands</td><td>brand_id</td><td>brands</td><td>brand_id</td><td>Y</td><td>N</td><td>int</td><td>Y</td></tr><tr><td>brands_stg</td><td>stg</td><td>brands</td><td>brands</td><td>Mostafa_Landing/brands</td><td>brand_id</td><td>brands</td><td>brand_name</td><td>N</td><td>Y</td><td>string</td><td>N</td></tr><tr><td>categories_stg</td><td>stg</td><td>categories</td><td>categories</td><td>Mostafa_Landing/categories</td><td>categorie_id</td><td>categories</td><td>category_id</td><td>Y</td><td>N</td><td>int</td><td>Y</td></tr><tr><td>categories_stg</td><td>stg</td><td>categories</td><td>categories</td><td>Mostafa_Landing/categories</td><td>categorie_id</td><td>categories</td><td>category_name</td><td>N</td><td>Y</td><td>string</td><td>N</td></tr><tr><td>customers_stg</td><td>stg</td><td>customers</td><td>customers</td><td>Mostafa_Landing/customers</td><td>customer_id</td><td>customers</td><td>customer_id</td><td>Y</td><td>N</td><td>int</td><td>Y</td></tr><tr><td>customers_stg</td><td>stg</td><td>customers</td><td>customers</td><td>Mostafa_Landing/customers</td><td>customer_id</td><td>customers</td><td>first_name</td><td>N</td><td>Y</td><td>string</td><td>N</td></tr><tr><td>customers_stg</td><td>stg</td><td>customers</td><td>customers</td><td>Mostafa_Landing/customers</td><td>customer_id</td><td>customers</td><td>last_name</td><td>N</td><td>Y</td><td>string</td><td>N</td></tr><tr><td>customers_stg</td><td>stg</td><td>customers</td><td>customers</td><td>Mostafa_Landing/customers</td><td>customer_id</td><td>customers</td><td>phone</td><td>N</td><td>Y</td><td>int</td><td>N</td></tr><tr><td>customers_stg</td><td>stg</td><td>customers</td><td>customers</td><td>Mostafa_Landing/customers</td><td>customer_id</td><td>customers</td><td>email</td><td>N</td><td>Y</td><td>string</td><td>Y</td></tr><tr><td>customers_stg</td><td>stg</td><td>customers</td><td>customers</td><td>Mostafa_Landing/customers</td><td>customer_id</td><td>customers</td><td>street</td><td>N</td><td>Y</td><td>string</td><td>N</td></tr><tr><td>customers_stg</td><td>stg</td><td>customers</td><td>customers</td><td>Mostafa_Landing/customers</td><td>customer_id</td><td>customers</td><td>city</td><td>N</td><td>Y</td><td>string</td><td>N</td></tr><tr><td>customers_stg</td><td>stg</td><td>customers</td><td>customers</td><td>Mostafa_Landing/customers</td><td>customer_id</td><td>customers</td><td>state</td><td>N</td><td>Y</td><td>string</td><td>N</td></tr><tr><td>customers_stg</td><td>stg</td><td>customers</td><td>customers</td><td>Mostafa_Landing/customers</td><td>customer_id</td><td>customers</td><td>zip_code</td><td>N</td><td>Y</td><td>string</td><td>N</td></tr><tr><td>products_stg</td><td>stg</td><td>products</td><td>products</td><td>Mostafa_Landing/products</td><td>product_id</td><td>products</td><td>product_id</td><td>Y</td><td>N</td><td>int</td><td>Y</td></tr><tr><td>products_stg</td><td>stg</td><td>products</td><td>products</td><td>Mostafa_Landing/products</td><td>product_id</td><td>products</td><td>product_name</td><td>N</td><td>Y</td><td>string</td><td>N</td></tr><tr><td>products_stg</td><td>stg</td><td>products</td><td>products</td><td>Mostafa_Landing/products</td><td>product_id</td><td>products</td><td>brand_id</td><td>N</td><td>Y</td><td>int</td><td>N</td></tr><tr><td>products_stg</td><td>stg</td><td>products</td><td>products</td><td>Mostafa_Landing/products</td><td>product_id</td><td>products</td><td>category_id</td><td>N</td><td>Y</td><td>int</td><td>N</td></tr><tr><td>products_stg</td><td>stg</td><td>products</td><td>products</td><td>Mostafa_Landing/products</td><td>product_id</td><td>products</td><td>model_year</td><td>N</td><td>Y</td><td>int</td><td>N</td></tr><tr><td>products_stg</td><td>stg</td><td>products</td><td>products</td><td>Mostafa_Landing/products</td><td>product_id</td><td>products</td><td>list_price</td><td>N</td><td>Y</td><td>int</td><td>N</td></tr><tr><td>staff_stg</td><td>stg</td><td>staffs</td><td>staffs</td><td>Mostafa_Landing/staff</td><td>staff_id</td><td>staffs</td><td>staff_id</td><td>Y</td><td>N</td><td>int</td><td>Y</td></tr><tr><td>staff_stg</td><td>stg</td><td>staffs</td><td>staffs</td><td>Mostafa_Landing/staff</td><td>staff_id</td><td>staffs</td><td>first_name</td><td>N</td><td>Y</td><td>string</td><td>N</td></tr><tr><td>staff_stg</td><td>stg</td><td>staffs</td><td>staffs</td><td>Mostafa_Landing/staff</td><td>staff_id</td><td>staffs</td><td>last_name</td><td>N</td><td>Y</td><td>string</td><td>N</td></tr><tr><td>staff_stg</td><td>stg</td><td>staffs</td><td>staffs</td><td>Mostafa_Landing/staff</td><td>staff_id</td><td>staffs</td><td>email</td><td>N</td><td>Y</td><td>string</td><td>Y</td></tr><tr><td>staff_stg</td><td>stg</td><td>staffs</td><td>staffs</td><td>Mostafa_Landing/staff</td><td>staff_id</td><td>staffs</td><td>phone</td><td>N</td><td>Y</td><td>int</td><td>N</td></tr><tr><td>staff_stg</td><td>stg</td><td>staffs</td><td>staffs</td><td>Mostafa_Landing/staff</td><td>staff_id</td><td>staffs</td><td>active</td><td>N</td><td>Y</td><td>int</td><td>Y</td></tr><tr><td>staff_stg</td><td>stg</td><td>staffs</td><td>staffs</td><td>Mostafa_Landing/staff</td><td>staff_id</td><td>staffs</td><td>store_id</td><td>N</td><td>Y</td><td>int</td><td>N</td></tr><tr><td>staff_stg</td><td>stg</td><td>staffs</td><td>staffs</td><td>Mostafa_Landing/staff</td><td>staff_id</td><td>staffs</td><td>manager_id</td><td>N</td><td>Y</td><td>int</td><td>Y</td></tr><tr><td>stores_stg</td><td>stg</td><td>stores</td><td>stores</td><td>Mostafa_Landing/stores</td><td>store_id</td><td>stores</td><td>store_id</td><td>Y</td><td>N</td><td>int</td><td>Y</td></tr><tr><td>stores_stg</td><td>stg</td><td>stores</td><td>stores</td><td>Mostafa_Landing/stores</td><td>store_id</td><td>stores</td><td>store_name</td><td>N</td><td>Y</td><td>string</td><td>N</td></tr><tr><td>stores_stg</td><td>stg</td><td>stores</td><td>stores</td><td>Mostafa_Landing/stores</td><td>store_id</td><td>stores</td><td>phone</td><td>N</td><td>Y</td><td>int</td><td>N</td></tr><tr><td>stores_stg</td><td>stg</td><td>stores</td><td>stores</td><td>Mostafa_Landing/stores</td><td>store_id</td><td>stores</td><td>email</td><td>N</td><td>Y</td><td>string</td><td>Y</td></tr><tr><td>stores_stg</td><td>stg</td><td>stores</td><td>stores</td><td>Mostafa_Landing/stores</td><td>store_id</td><td>stores</td><td>street</td><td>N</td><td>Y</td><td>string</td><td>N</td></tr><tr><td>stores_stg</td><td>stg</td><td>stores</td><td>stores</td><td>Mostafa_Landing/stores</td><td>store_id</td><td>stores</td><td>city</td><td>N</td><td>Y</td><td>string</td><td>N</td></tr><tr><td>stores_stg</td><td>stg</td><td>stores</td><td>stores</td><td>Mostafa_Landing/stores</td><td>store_id</td><td>stores</td><td>state</td><td>N</td><td>Y</td><td>string</td><td>N</td></tr><tr><td>stores_stg</td><td>stg</td><td>stores</td><td>stores</td><td>Mostafa_Landing/stores</td><td>store_id</td><td>stores</td><td>zip_code</td><td>N</td><td>Y</td><td>int</td><td>N</td></tr><tr><td>order_items_sql</td><td>sql</td><td>order_items</td><td>order_items</td><td>Mostafa_Landing/order_items</td><td>[order_id, item_id]</td><td>order_items</td><td>order_id</td><td>Y</td><td>N</td><td>int</td><td>Y</td></tr><tr><td>order_items_sql</td><td>sql</td><td>order_items</td><td>order_items</td><td>Mostafa_Landing/order_items</td><td>[order_id, item_id]</td><td>order_items</td><td>item_id</td><td>Y</td><td>N</td><td>int</td><td>Y</td></tr><tr><td>order_items_sql</td><td>sql</td><td>order_items</td><td>order_items</td><td>Mostafa_Landing/order_items</td><td>[order_id, item_id]</td><td>order_items</td><td>product_id</td><td>N</td><td>Y</td><td>int</td><td>N</td></tr><tr><td>order_items_sql</td><td>sql</td><td>order_items</td><td>order_items</td><td>Mostafa_Landing/order_items</td><td>[order_id, item_id]</td><td>order_items</td><td>quantity</td><td>N</td><td>Y</td><td>int</td><td>N</td></tr><tr><td>order_items_sql</td><td>sql</td><td>order_items</td><td>order_items</td><td>Mostafa_Landing/order_items</td><td>[order_id, item_id]</td><td>order_items</td><td>list_price</td><td>N</td><td>Y</td><td>float</td><td>N</td></tr><tr><td>order_items_sql</td><td>sql</td><td>order_items</td><td>order_items</td><td>Mostafa_Landing/order_items</td><td>[order_id, item_id]</td><td>order_items</td><td>discount</td><td>N</td><td>Y</td><td>float</td><td>N</td></tr><tr><td>order_sql</td><td>sql</td><td>order</td><td>order</td><td>Mostafa_Landing/orders</td><td>order_id</td><td>orders</td><td>order_id</td><td>Y</td><td>N</td><td>int</td><td>Y</td></tr><tr><td>order_sql</td><td>sql</td><td>order</td><td>order</td><td>Mostafa_Landing/orders</td><td>order_id</td><td>orders</td><td>customer_id</td><td>N</td><td>Y</td><td>int</td><td>N</td></tr><tr><td>order_sql</td><td>sql</td><td>order</td><td>order</td><td>Mostafa_Landing/orders</td><td>order_id</td><td>orders</td><td>order_status</td><td>N</td><td>Y</td><td>int</td><td>N</td></tr><tr><td>order_sql</td><td>sql</td><td>order</td><td>order</td><td>Mostafa_Landing/orders</td><td>order_id</td><td>orders</td><td>order_date</td><td>N</td><td>Y</td><td>datetime</td><td>N</td></tr><tr><td>order_sql</td><td>sql</td><td>order</td><td>order</td><td>Mostafa_Landing/orders</td><td>order_id</td><td>orders</td><td>required_date</td><td>N</td><td>Y</td><td>datetime</td><td>N</td></tr><tr><td>order_sql</td><td>sql</td><td>order</td><td>order</td><td>Mostafa_Landing/orders</td><td>order_id</td><td>orders</td><td>shipped_date</td><td>N</td><td>Y</td><td>datetime</td><td>N</td></tr><tr><td>order_sql</td><td>sql</td><td>order</td><td>order</td><td>Mostafa_Landing/orders</td><td>order_id</td><td>orders</td><td>store_id</td><td>N</td><td>Y</td><td>int</td><td>N</td></tr><tr><td>order_sql</td><td>sql</td><td>order</td><td>order</td><td>Mostafa_Landing/orders</td><td>order_id</td><td>orders</td><td>staff_id</td><td>N</td><td>Y</td><td>int</td><td>N</td></tr></tbody></table></div>"
      ]
     },
     "metadata": {
      "application/vnd.databricks.v1+output": {
       "addedWidgets": {},
       "aggData": [],
       "aggError": "",
       "aggOverflow": false,
       "aggSchema": [],
       "aggSeriesLimitReached": false,
       "aggType": "",
       "arguments": {},
       "columnCustomDisplayInfos": {},
       "data": [
        [
         "brands_stg",
         "stg",
         "brands",
         "brands",
         "Mostafa_Landing/brands",
         "brand_id",
         "brands",
         "brand_id",
         "Y",
         "N",
         "int",
         "Y"
        ],
        [
         "brands_stg",
         "stg",
         "brands",
         "brands",
         "Mostafa_Landing/brands",
         "brand_id",
         "brands",
         "brand_name",
         "N",
         "Y",
         "string",
         "N"
        ],
        [
         "categories_stg",
         "stg",
         "categories",
         "categories",
         "Mostafa_Landing/categories",
         "categorie_id",
         "categories",
         "category_id",
         "Y",
         "N",
         "int",
         "Y"
        ],
        [
         "categories_stg",
         "stg",
         "categories",
         "categories",
         "Mostafa_Landing/categories",
         "categorie_id",
         "categories",
         "category_name",
         "N",
         "Y",
         "string",
         "N"
        ],
        [
         "customers_stg",
         "stg",
         "customers",
         "customers",
         "Mostafa_Landing/customers",
         "customer_id",
         "customers",
         "customer_id",
         "Y",
         "N",
         "int",
         "Y"
        ],
        [
         "customers_stg",
         "stg",
         "customers",
         "customers",
         "Mostafa_Landing/customers",
         "customer_id",
         "customers",
         "first_name",
         "N",
         "Y",
         "string",
         "N"
        ],
        [
         "customers_stg",
         "stg",
         "customers",
         "customers",
         "Mostafa_Landing/customers",
         "customer_id",
         "customers",
         "last_name",
         "N",
         "Y",
         "string",
         "N"
        ],
        [
         "customers_stg",
         "stg",
         "customers",
         "customers",
         "Mostafa_Landing/customers",
         "customer_id",
         "customers",
         "phone",
         "N",
         "Y",
         "int",
         "N"
        ],
        [
         "customers_stg",
         "stg",
         "customers",
         "customers",
         "Mostafa_Landing/customers",
         "customer_id",
         "customers",
         "email",
         "N",
         "Y",
         "string",
         "Y"
        ],
        [
         "customers_stg",
         "stg",
         "customers",
         "customers",
         "Mostafa_Landing/customers",
         "customer_id",
         "customers",
         "street",
         "N",
         "Y",
         "string",
         "N"
        ],
        [
         "customers_stg",
         "stg",
         "customers",
         "customers",
         "Mostafa_Landing/customers",
         "customer_id",
         "customers",
         "city",
         "N",
         "Y",
         "string",
         "N"
        ],
        [
         "customers_stg",
         "stg",
         "customers",
         "customers",
         "Mostafa_Landing/customers",
         "customer_id",
         "customers",
         "state",
         "N",
         "Y",
         "string",
         "N"
        ],
        [
         "customers_stg",
         "stg",
         "customers",
         "customers",
         "Mostafa_Landing/customers",
         "customer_id",
         "customers",
         "zip_code",
         "N",
         "Y",
         "string",
         "N"
        ],
        [
         "products_stg",
         "stg",
         "products",
         "products",
         "Mostafa_Landing/products",
         "product_id",
         "products",
         "product_id",
         "Y",
         "N",
         "int",
         "Y"
        ],
        [
         "products_stg",
         "stg",
         "products",
         "products",
         "Mostafa_Landing/products",
         "product_id",
         "products",
         "product_name",
         "N",
         "Y",
         "string",
         "N"
        ],
        [
         "products_stg",
         "stg",
         "products",
         "products",
         "Mostafa_Landing/products",
         "product_id",
         "products",
         "brand_id",
         "N",
         "Y",
         "int",
         "N"
        ],
        [
         "products_stg",
         "stg",
         "products",
         "products",
         "Mostafa_Landing/products",
         "product_id",
         "products",
         "category_id",
         "N",
         "Y",
         "int",
         "N"
        ],
        [
         "products_stg",
         "stg",
         "products",
         "products",
         "Mostafa_Landing/products",
         "product_id",
         "products",
         "model_year",
         "N",
         "Y",
         "int",
         "N"
        ],
        [
         "products_stg",
         "stg",
         "products",
         "products",
         "Mostafa_Landing/products",
         "product_id",
         "products",
         "list_price",
         "N",
         "Y",
         "int",
         "N"
        ],
        [
         "staff_stg",
         "stg",
         "staffs",
         "staffs",
         "Mostafa_Landing/staff",
         "staff_id",
         "staffs",
         "staff_id",
         "Y",
         "N",
         "int",
         "Y"
        ],
        [
         "staff_stg",
         "stg",
         "staffs",
         "staffs",
         "Mostafa_Landing/staff",
         "staff_id",
         "staffs",
         "first_name",
         "N",
         "Y",
         "string",
         "N"
        ],
        [
         "staff_stg",
         "stg",
         "staffs",
         "staffs",
         "Mostafa_Landing/staff",
         "staff_id",
         "staffs",
         "last_name",
         "N",
         "Y",
         "string",
         "N"
        ],
        [
         "staff_stg",
         "stg",
         "staffs",
         "staffs",
         "Mostafa_Landing/staff",
         "staff_id",
         "staffs",
         "email",
         "N",
         "Y",
         "string",
         "Y"
        ],
        [
         "staff_stg",
         "stg",
         "staffs",
         "staffs",
         "Mostafa_Landing/staff",
         "staff_id",
         "staffs",
         "phone",
         "N",
         "Y",
         "int",
         "N"
        ],
        [
         "staff_stg",
         "stg",
         "staffs",
         "staffs",
         "Mostafa_Landing/staff",
         "staff_id",
         "staffs",
         "active",
         "N",
         "Y",
         "int",
         "Y"
        ],
        [
         "staff_stg",
         "stg",
         "staffs",
         "staffs",
         "Mostafa_Landing/staff",
         "staff_id",
         "staffs",
         "store_id",
         "N",
         "Y",
         "int",
         "N"
        ],
        [
         "staff_stg",
         "stg",
         "staffs",
         "staffs",
         "Mostafa_Landing/staff",
         "staff_id",
         "staffs",
         "manager_id",
         "N",
         "Y",
         "int",
         "Y"
        ],
        [
         "stores_stg",
         "stg",
         "stores",
         "stores",
         "Mostafa_Landing/stores",
         "store_id",
         "stores",
         "store_id",
         "Y",
         "N",
         "int",
         "Y"
        ],
        [
         "stores_stg",
         "stg",
         "stores",
         "stores",
         "Mostafa_Landing/stores",
         "store_id",
         "stores",
         "store_name",
         "N",
         "Y",
         "string",
         "N"
        ],
        [
         "stores_stg",
         "stg",
         "stores",
         "stores",
         "Mostafa_Landing/stores",
         "store_id",
         "stores",
         "phone",
         "N",
         "Y",
         "int",
         "N"
        ],
        [
         "stores_stg",
         "stg",
         "stores",
         "stores",
         "Mostafa_Landing/stores",
         "store_id",
         "stores",
         "email",
         "N",
         "Y",
         "string",
         "Y"
        ],
        [
         "stores_stg",
         "stg",
         "stores",
         "stores",
         "Mostafa_Landing/stores",
         "store_id",
         "stores",
         "street",
         "N",
         "Y",
         "string",
         "N"
        ],
        [
         "stores_stg",
         "stg",
         "stores",
         "stores",
         "Mostafa_Landing/stores",
         "store_id",
         "stores",
         "city",
         "N",
         "Y",
         "string",
         "N"
        ],
        [
         "stores_stg",
         "stg",
         "stores",
         "stores",
         "Mostafa_Landing/stores",
         "store_id",
         "stores",
         "state",
         "N",
         "Y",
         "string",
         "N"
        ],
        [
         "stores_stg",
         "stg",
         "stores",
         "stores",
         "Mostafa_Landing/stores",
         "store_id",
         "stores",
         "zip_code",
         "N",
         "Y",
         "int",
         "N"
        ],
        [
         "order_items_sql",
         "sql",
         "order_items",
         "order_items",
         "Mostafa_Landing/order_items",
         "[order_id, item_id]",
         "order_items",
         "order_id",
         "Y",
         "N",
         "int",
         "Y"
        ],
        [
         "order_items_sql",
         "sql",
         "order_items",
         "order_items",
         "Mostafa_Landing/order_items",
         "[order_id, item_id]",
         "order_items",
         "item_id",
         "Y",
         "N",
         "int",
         "Y"
        ],
        [
         "order_items_sql",
         "sql",
         "order_items",
         "order_items",
         "Mostafa_Landing/order_items",
         "[order_id, item_id]",
         "order_items",
         "product_id",
         "N",
         "Y",
         "int",
         "N"
        ],
        [
         "order_items_sql",
         "sql",
         "order_items",
         "order_items",
         "Mostafa_Landing/order_items",
         "[order_id, item_id]",
         "order_items",
         "quantity",
         "N",
         "Y",
         "int",
         "N"
        ],
        [
         "order_items_sql",
         "sql",
         "order_items",
         "order_items",
         "Mostafa_Landing/order_items",
         "[order_id, item_id]",
         "order_items",
         "list_price",
         "N",
         "Y",
         "float",
         "N"
        ],
        [
         "order_items_sql",
         "sql",
         "order_items",
         "order_items",
         "Mostafa_Landing/order_items",
         "[order_id, item_id]",
         "order_items",
         "discount",
         "N",
         "Y",
         "float",
         "N"
        ],
        [
         "order_sql",
         "sql",
         "order",
         "order",
         "Mostafa_Landing/orders",
         "order_id",
         "orders",
         "order_id",
         "Y",
         "N",
         "int",
         "Y"
        ],
        [
         "order_sql",
         "sql",
         "order",
         "order",
         "Mostafa_Landing/orders",
         "order_id",
         "orders",
         "customer_id",
         "N",
         "Y",
         "int",
         "N"
        ],
        [
         "order_sql",
         "sql",
         "order",
         "order",
         "Mostafa_Landing/orders",
         "order_id",
         "orders",
         "order_status",
         "N",
         "Y",
         "int",
         "N"
        ],
        [
         "order_sql",
         "sql",
         "order",
         "order",
         "Mostafa_Landing/orders",
         "order_id",
         "orders",
         "order_date",
         "N",
         "Y",
         "datetime",
         "N"
        ],
        [
         "order_sql",
         "sql",
         "order",
         "order",
         "Mostafa_Landing/orders",
         "order_id",
         "orders",
         "required_date",
         "N",
         "Y",
         "datetime",
         "N"
        ],
        [
         "order_sql",
         "sql",
         "order",
         "order",
         "Mostafa_Landing/orders",
         "order_id",
         "orders",
         "shipped_date",
         "N",
         "Y",
         "datetime",
         "N"
        ],
        [
         "order_sql",
         "sql",
         "order",
         "order",
         "Mostafa_Landing/orders",
         "order_id",
         "orders",
         "store_id",
         "N",
         "Y",
         "int",
         "N"
        ],
        [
         "order_sql",
         "sql",
         "order",
         "order",
         "Mostafa_Landing/orders",
         "order_id",
         "orders",
         "staff_id",
         "N",
         "Y",
         "int",
         "N"
        ]
       ],
       "datasetInfos": [],
       "dbfsResultPath": null,
       "isJsonSchema": true,
       "metadata": {},
       "overflow": false,
       "plotOptions": {
        "customPlotOptions": {},
        "displayType": "table",
        "pivotAggregation": null,
        "pivotColumns": null,
        "xColumns": null,
        "yColumns": null
       },
       "removedWidgets": [],
       "schema": [
        {
         "metadata": "{}",
         "name": "table_id",
         "type": "\"string\""
        },
        {
         "metadata": "{}",
         "name": "source_type",
         "type": "\"string\""
        },
        {
         "metadata": "{}",
         "name": "source_filename",
         "type": "\"string\""
        },
        {
         "metadata": "{}",
         "name": "destination_filename",
         "type": "\"string\""
        },
        {
         "metadata": "{}",
         "name": "destination_path",
         "type": "\"string\""
        },
        {
         "metadata": "{}",
         "name": "primary_key",
         "type": "\"string\""
        },
        {
         "metadata": "{}",
         "name": "table_column",
         "type": "\"string\""
        },
        {
         "metadata": "{}",
         "name": "table_name",
         "type": "\"string\""
        },
        {
         "metadata": "{}",
         "name": "is_PK?",
         "type": "\"string\""
        },
        {
         "metadata": "{}",
         "name": "can_be_nulled",
         "type": "\"string\""
        },
        {
         "metadata": "{}",
         "name": "data_type",
         "type": "\"string\""
        },
        {
         "metadata": "{}",
         "name": "unique?",
         "type": "\"string\""
        }
       ],
       "type": "table"
      }
     },
     "output_type": "display_data"
    }
   ],
   "source": [
    "display(metadata)"
   ]
  },
  {
   "cell_type": "code",
   "execution_count": 0,
   "metadata": {
    "application/vnd.databricks.v1+cell": {
     "cellMetadata": {
      "byteLimit": 2048000,
      "rowLimit": 10000
     },
     "inputWidgets": {},
     "nuid": "0583d651-8977-424a-b4ac-1bec6c0fa70b",
     "showTitle": false,
     "title": ""
    }
   },
   "outputs": [],
   "source": [
    "def load_source_data(spark, metadata_df):\n",
    "\n",
    "    dataframes = {}\n",
    "\n",
    "    # Extract unique folder names from the metadata DataFrame\n",
    "    folder_names = metadata_df.select(\"destination_filename\").distinct().rdd.flatMap(lambda x: x).collect()\n",
    "\n",
    "    # Load files for each folder name\n",
    "    for folder_name in folder_names:\n",
    "        file_path = f\"wasbs://dlbikestorelanding@adlsbikestoreinterns.blob.core.windows.net/Mostafa_Landing/{folder_name}/\"\n",
    "        df = spark.read.parquet(file_path, inferSchema=True)\n",
    "        dataframes[folder_name] = df\n",
    "    for source_filename, df in dataframes.items():\n",
    "     globals()[f\"{source_filename}_df\"] = df\n",
    "    \n",
    "    return dataframes\n"
   ]
  },
  {
   "cell_type": "code",
   "execution_count": 0,
   "metadata": {
    "application/vnd.databricks.v1+cell": {
     "cellMetadata": {
      "byteLimit": 2048000,
      "rowLimit": 10000
     },
     "inputWidgets": {},
     "nuid": "0a11da17-0309-49c9-9b69-8eb653f49a87",
     "showTitle": false,
     "title": ""
    }
   },
   "outputs": [
    {
     "output_type": "execute_result",
     "data": {
      "text/plain": [
       "{'brands': DataFrame[brand_id: string, brand_name: string, time_stamp: string, process_id: string],\n",
       " 'order_items': DataFrame[order_id: string, item_id: string, product_id: string, quantity: string, list_price: string, discount: string, time_stamp: string, process_id: string],\n",
       " 'staffs': DataFrame[staff_id: string, first_name: string, last_name: string, email: string, phone: string, active: string, store_id: string, manager_id: string, time_stamp: string, process_id: string],\n",
       " 'categories': DataFrame[category_id: string, category_name: string, time_stamp: string, process_id: string],\n",
       " 'customers': DataFrame[customer_id: string, first_name: string, last_name: string, phone: string, email: string, street: string, city: string, state: string, zip_code: string, time_stamp: string, process_id: string],\n",
       " 'order': DataFrame[order_id: int, customer_id: int, order_status: int, order_date: string, required_date: string, shipped_date: string, store_id: int, staff_id: int, time_stamp: string, process_id: string],\n",
       " 'stores': DataFrame[store_id: string, store_name: string, phone: string, email: string, street: string, city: string, state: string, zip_code: string, time_stamp: string, process_id: string],\n",
       " 'products': DataFrame[product_id: string, product_name: string, brand_id: string, category_id: string, model_year: string, list_price: string, time_stamp: string, process_id: string]}"
      ]
     },
     "execution_count": 23,
     "metadata": {},
     "output_type": "execute_result"
    }
   ],
   "source": [
    "load_source_data(spark, metadata)"
   ]
  },
  {
   "cell_type": "code",
   "execution_count": 0,
   "metadata": {
    "application/vnd.databricks.v1+cell": {
     "cellMetadata": {
      "byteLimit": 2048000,
      "rowLimit": 10000
     },
     "inputWidgets": {},
     "nuid": "2978ebd4-bc9e-49cc-9b59-44cb6fb89f4f",
     "showTitle": false,
     "title": ""
    }
   },
   "outputs": [],
   "source": [
    "display(customers_df)"
   ]
  },
  {
   "cell_type": "code",
   "execution_count": 0,
   "metadata": {
    "application/vnd.databricks.v1+cell": {
     "cellMetadata": {
      "byteLimit": 2048000,
      "rowLimit": 10000
     },
     "inputWidgets": {},
     "nuid": "1a102656-4ee9-4f44-9089-4721073d553f",
     "showTitle": false,
     "title": ""
    }
   },
   "outputs": [],
   "source": [
    "display(products_df)"
   ]
  },
  {
   "cell_type": "code",
   "execution_count": 0,
   "metadata": {
    "application/vnd.databricks.v1+cell": {
     "cellMetadata": {
      "byteLimit": 2048000,
      "rowLimit": 10000
     },
     "inputWidgets": {},
     "nuid": "45c659e8-ddda-45b4-a862-fbc279affc15",
     "showTitle": false,
     "title": ""
    }
   },
   "outputs": [
    {
     "output_type": "display_data",
     "data": {
      "text/html": [
       "<style scoped>\n",
       "  .table-result-container {\n",
       "    max-height: 300px;\n",
       "    overflow: auto;\n",
       "  }\n",
       "  table, th, td {\n",
       "    border: 1px solid black;\n",
       "    border-collapse: collapse;\n",
       "  }\n",
       "  th, td {\n",
       "    padding: 5px;\n",
       "  }\n",
       "  th {\n",
       "    text-align: left;\n",
       "  }\n",
       "</style><div class='table-result-container'><table class='table-result'><thead style='background-color: white'><tr><th>brand_id</th><th>brand_name</th><th>time_stamp</th><th>process_id</th></tr></thead><tbody><tr><td>1</td><td>Electra</td><td>2024-08-29T19:53:29.5252651Z</td><td>7bd3dd10-00eb-45b6-9e68-6ca32ed8f8e6</td></tr><tr><td>2</td><td>Haro</td><td>2024-08-29T19:53:29.5252651Z</td><td>7bd3dd10-00eb-45b6-9e68-6ca32ed8f8e6</td></tr><tr><td>3</td><td>Heller</td><td>2024-08-29T19:53:29.5252651Z</td><td>7bd3dd10-00eb-45b6-9e68-6ca32ed8f8e6</td></tr><tr><td>4</td><td>Pure Cycles</td><td>2024-08-29T19:53:29.5252651Z</td><td>7bd3dd10-00eb-45b6-9e68-6ca32ed8f8e6</td></tr><tr><td>5</td><td>Ritchey</td><td>2024-08-29T19:53:29.5252651Z</td><td>7bd3dd10-00eb-45b6-9e68-6ca32ed8f8e6</td></tr><tr><td>6</td><td>Strider</td><td>2024-08-29T19:53:29.5252651Z</td><td>7bd3dd10-00eb-45b6-9e68-6ca32ed8f8e6</td></tr><tr><td>7</td><td>Sun Bicycles</td><td>2024-08-29T19:53:29.5252651Z</td><td>7bd3dd10-00eb-45b6-9e68-6ca32ed8f8e6</td></tr><tr><td>8</td><td>Surly</td><td>2024-08-29T19:53:29.5252651Z</td><td>7bd3dd10-00eb-45b6-9e68-6ca32ed8f8e6</td></tr><tr><td>9</td><td>Trek</td><td>2024-08-29T19:53:29.5252651Z</td><td>7bd3dd10-00eb-45b6-9e68-6ca32ed8f8e6</td></tr><tr><td>4</td><td>Pure Cycles</td><td>2024-08-29T19:53:29.5252651Z</td><td>7bd3dd10-00eb-45b6-9e68-6ca32ed8f8e6</td></tr><tr><td>7</td><td>Bicycle</td><td>2024-08-29T19:53:29.5252651Z</td><td>7bd3dd10-00eb-45b6-9e68-6ca32ed8f8e6</td></tr><tr><td>10</td><td>Heller</td><td>2024-08-29T19:53:29.5252651Z</td><td>7bd3dd10-00eb-45b6-9e68-6ca32ed8f8e6</td></tr></tbody></table></div>"
      ]
     },
     "metadata": {
      "application/vnd.databricks.v1+output": {
       "addedWidgets": {},
       "aggData": [],
       "aggError": "",
       "aggOverflow": false,
       "aggSchema": [],
       "aggSeriesLimitReached": false,
       "aggType": "",
       "arguments": {},
       "columnCustomDisplayInfos": {},
       "data": [
        [
         "1",
         "Electra",
         "2024-08-29T19:53:29.5252651Z",
         "7bd3dd10-00eb-45b6-9e68-6ca32ed8f8e6"
        ],
        [
         "2",
         "Haro",
         "2024-08-29T19:53:29.5252651Z",
         "7bd3dd10-00eb-45b6-9e68-6ca32ed8f8e6"
        ],
        [
         "3",
         "Heller",
         "2024-08-29T19:53:29.5252651Z",
         "7bd3dd10-00eb-45b6-9e68-6ca32ed8f8e6"
        ],
        [
         "4",
         "Pure Cycles",
         "2024-08-29T19:53:29.5252651Z",
         "7bd3dd10-00eb-45b6-9e68-6ca32ed8f8e6"
        ],
        [
         "5",
         "Ritchey",
         "2024-08-29T19:53:29.5252651Z",
         "7bd3dd10-00eb-45b6-9e68-6ca32ed8f8e6"
        ],
        [
         "6",
         "Strider",
         "2024-08-29T19:53:29.5252651Z",
         "7bd3dd10-00eb-45b6-9e68-6ca32ed8f8e6"
        ],
        [
         "7",
         "Sun Bicycles",
         "2024-08-29T19:53:29.5252651Z",
         "7bd3dd10-00eb-45b6-9e68-6ca32ed8f8e6"
        ],
        [
         "8",
         "Surly",
         "2024-08-29T19:53:29.5252651Z",
         "7bd3dd10-00eb-45b6-9e68-6ca32ed8f8e6"
        ],
        [
         "9",
         "Trek",
         "2024-08-29T19:53:29.5252651Z",
         "7bd3dd10-00eb-45b6-9e68-6ca32ed8f8e6"
        ],
        [
         "4",
         "Pure Cycles",
         "2024-08-29T19:53:29.5252651Z",
         "7bd3dd10-00eb-45b6-9e68-6ca32ed8f8e6"
        ],
        [
         "7",
         "Bicycle",
         "2024-08-29T19:53:29.5252651Z",
         "7bd3dd10-00eb-45b6-9e68-6ca32ed8f8e6"
        ],
        [
         "10",
         "Heller",
         "2024-08-29T19:53:29.5252651Z",
         "7bd3dd10-00eb-45b6-9e68-6ca32ed8f8e6"
        ]
       ],
       "datasetInfos": [],
       "dbfsResultPath": null,
       "isJsonSchema": true,
       "metadata": {},
       "overflow": false,
       "plotOptions": {
        "customPlotOptions": {},
        "displayType": "table",
        "pivotAggregation": null,
        "pivotColumns": null,
        "xColumns": null,
        "yColumns": null
       },
       "removedWidgets": [],
       "schema": [
        {
         "metadata": "{}",
         "name": "brand_id",
         "type": "\"string\""
        },
        {
         "metadata": "{}",
         "name": "brand_name",
         "type": "\"string\""
        },
        {
         "metadata": "{}",
         "name": "time_stamp",
         "type": "\"string\""
        },
        {
         "metadata": "{}",
         "name": "process_id",
         "type": "\"string\""
        }
       ],
       "type": "table"
      }
     },
     "output_type": "display_data"
    },
    {
     "output_type": "display_data",
     "data": {
      "text/plain": [
       "Databricks data profile. Run in Databricks to view."
      ]
     },
     "metadata": {
      "application/vnd.databricks.v1.subcommand+json": {
       "baseErrorDetails": null,
       "bindings": {},
       "collapsed": false,
       "command": "%python\nif hasattr(dbutils, \"data\") and hasattr(dbutils.data, \"summarize\"):\n  # setup\n  __data_summary_display_orig = display\n  __data_summary_dfs = []\n  def __data_summary_display_new(df):\n    # add only when result is going to be table type\n    __data_summary_df_modules = [\"pandas.core.frame\", \"databricks.koalas.frame\", \"pyspark.sql.dataframe\", \"pyspark.pandas.frame\", \"pyspark.sql.connect.dataframe\"]\n    if (type(df).__module__ in __data_summary_df_modules and type(df).__name__ == 'DataFrame') or isinstance(df, list):\n      __data_summary_dfs.append(df)\n  display = __data_summary_display_new\n\n  def __data_summary_user_code_fn():\n    import base64\n    exec(base64.standard_b64decode(\"ZGlzcGxheShicmFuZHNfZGYp\").decode())\n\n  try:\n    # run user code\n    __data_summary_user_code_fn()\n\n    # run on valid tableResultIndex\n    if len(__data_summary_dfs) > 0:\n      # run summarize\n      if type(__data_summary_dfs[0]).__module__ == \"databricks.koalas.frame\":\n        # koalas dataframe\n        dbutils.data.summarize(__data_summary_dfs[0].to_spark())\n      elif type(__data_summary_dfs[0]).__module__ == \"pandas.core.frame\":\n        # pandas dataframe\n        dbutils.data.summarize(spark.createDataFrame(__data_summary_dfs[0]))\n      else:\n        dbutils.data.summarize(__data_summary_dfs[0])\n    else:\n        displayHTML(\"dataframe no longer exists. If you're using dataframe.display(), use display(dataframe) instead.\")\n\n  finally:\n    display = __data_summary_display_orig\n    del __data_summary_display_new\n    del __data_summary_display_orig\n    del __data_summary_dfs\n    del __data_summary_user_code_fn\nelse:\n  print(\"This DBR version does not support data profiles.\")",
       "commandTitle": "Data Profile 1",
       "commandType": "auto",
       "commandVersion": 0,
       "commentThread": [],
       "commentsVisible": false,
       "contentSha256Hex": null,
       "customPlotOptions": {},
       "datasetPreviewNameToCmdIdMap": {},
       "diffDeletes": [],
       "diffInserts": [],
       "displayType": "table",
       "error": null,
       "errorDetails": null,
       "errorSummary": null,
       "errorTraceType": null,
       "finishTime": 1725122950808,
       "globalVars": {},
       "guid": "",
       "height": "auto",
       "hideCommandCode": false,
       "hideCommandResult": false,
       "iPythonMetadata": null,
       "inputWidgets": {},
       "isLockedInExamMode": false,
       "latestUser": "a user",
       "latestUserId": null,
       "listResultMetadata": [
        [
         "mimeBundle",
         null
        ]
       ],
       "metadata": {
        "byteLimit": 2048000,
        "rowLimit": 10000
       },
       "nuid": "61d999a2-6580-471c-86e3-64d99132a4fd",
       "origId": 0,
       "parentHierarchy": [],
       "pivotAggregation": null,
       "pivotColumns": null,
       "position": 2.61767578125,
       "resultDbfsErrorMessage": null,
       "resultDbfsStatus": "INLINED_IN_TREE",
       "results": {
        "arguments": {},
        "data": "Failed to fetch the result.",
        "metadata": {},
        "type": "raw"
       },
       "showCommandTitle": false,
       "startTime": 1725122950378,
       "state": "finished",
       "streamStates": {},
       "subcommandOptions": null,
       "submitTime": 1725122950319,
       "subtype": "tableResultSubCmd.dataSummary",
       "tableResultIndex": 0,
       "useConsistentColors": false,
       "version": "CommandV1",
       "width": "auto",
       "workflows": [],
       "xColumns": null,
       "yColumns": null
      }
     },
     "output_type": "display_data"
    }
   ],
   "source": [
    "display(brands_df)"
   ]
  },
  {
   "cell_type": "code",
   "execution_count": 0,
   "metadata": {
    "application/vnd.databricks.v1+cell": {
     "cellMetadata": {
      "byteLimit": 2048000,
      "rowLimit": 10000
     },
     "inputWidgets": {},
     "nuid": "e9213d73-ad01-4e45-9b50-212205deae66",
     "showTitle": false,
     "title": ""
    }
   },
   "outputs": [
    {
     "output_type": "display_data",
     "data": {
      "text/html": [
       "<style scoped>\n",
       "  .table-result-container {\n",
       "    max-height: 300px;\n",
       "    overflow: auto;\n",
       "  }\n",
       "  table, th, td {\n",
       "    border: 1px solid black;\n",
       "    border-collapse: collapse;\n",
       "  }\n",
       "  th, td {\n",
       "    padding: 5px;\n",
       "  }\n",
       "  th {\n",
       "    text-align: left;\n",
       "  }\n",
       "</style><div class='table-result-container'><table class='table-result'><thead style='background-color: white'><tr><th>category_id</th><th>category_name</th><th>time_stamp</th><th>process_id</th></tr></thead><tbody><tr><td>1</td><td>Children Bicycles</td><td>2024-08-29T19:53:29.5553813Z</td><td>60eb0385-b23a-43ae-9a8a-7afc7104ad93</td></tr><tr><td>2</td><td>Comfort Bicycles</td><td>2024-08-29T19:53:29.5553813Z</td><td>60eb0385-b23a-43ae-9a8a-7afc7104ad93</td></tr><tr><td>3</td><td>Cruisers Bicycles</td><td>2024-08-29T19:53:29.5553813Z</td><td>60eb0385-b23a-43ae-9a8a-7afc7104ad93</td></tr><tr><td>4</td><td>Cyclocross Bicycles</td><td>2024-08-29T19:53:29.5553813Z</td><td>60eb0385-b23a-43ae-9a8a-7afc7104ad93</td></tr><tr><td>5</td><td>Electric Bikes</td><td>2024-08-29T19:53:29.5553813Z</td><td>60eb0385-b23a-43ae-9a8a-7afc7104ad93</td></tr><tr><td>5</td><td>Cruisers Bicycles</td><td>2024-08-29T19:53:29.5553813Z</td><td>60eb0385-b23a-43ae-9a8a-7afc7104ad93</td></tr><tr><td>6</td><td>Mountain Bikes</td><td>2024-08-29T19:53:29.5553813Z</td><td>60eb0385-b23a-43ae-9a8a-7afc7104ad93</td></tr><tr><td>7</td><td>Road Bikes</td><td>2024-08-29T19:53:29.5553813Z</td><td>60eb0385-b23a-43ae-9a8a-7afc7104ad93</td></tr><tr><td>8</td><td>PwC Cars</td><td>2024-08-29T19:53:29.5553813Z</td><td>60eb0385-b23a-43ae-9a8a-7afc7104ad93</td></tr><tr><td>3</td><td>Comfort Bicycles</td><td>2024-08-29T19:53:29.5553813Z</td><td>60eb0385-b23a-43ae-9a8a-7afc7104ad93</td></tr><tr><td>3</td><td>Cruisers Bicycles</td><td>2024-08-29T19:53:29.5553813Z</td><td>60eb0385-b23a-43ae-9a8a-7afc7104ad93</td></tr></tbody></table></div>"
      ]
     },
     "metadata": {
      "application/vnd.databricks.v1+output": {
       "addedWidgets": {},
       "aggData": [],
       "aggError": "",
       "aggOverflow": false,
       "aggSchema": [],
       "aggSeriesLimitReached": false,
       "aggType": "",
       "arguments": {},
       "columnCustomDisplayInfos": {},
       "data": [
        [
         "1",
         "Children Bicycles",
         "2024-08-29T19:53:29.5553813Z",
         "60eb0385-b23a-43ae-9a8a-7afc7104ad93"
        ],
        [
         "2",
         "Comfort Bicycles",
         "2024-08-29T19:53:29.5553813Z",
         "60eb0385-b23a-43ae-9a8a-7afc7104ad93"
        ],
        [
         "3",
         "Cruisers Bicycles",
         "2024-08-29T19:53:29.5553813Z",
         "60eb0385-b23a-43ae-9a8a-7afc7104ad93"
        ],
        [
         "4",
         "Cyclocross Bicycles",
         "2024-08-29T19:53:29.5553813Z",
         "60eb0385-b23a-43ae-9a8a-7afc7104ad93"
        ],
        [
         "5",
         "Electric Bikes",
         "2024-08-29T19:53:29.5553813Z",
         "60eb0385-b23a-43ae-9a8a-7afc7104ad93"
        ],
        [
         "5",
         "Cruisers Bicycles",
         "2024-08-29T19:53:29.5553813Z",
         "60eb0385-b23a-43ae-9a8a-7afc7104ad93"
        ],
        [
         "6",
         "Mountain Bikes",
         "2024-08-29T19:53:29.5553813Z",
         "60eb0385-b23a-43ae-9a8a-7afc7104ad93"
        ],
        [
         "7",
         "Road Bikes",
         "2024-08-29T19:53:29.5553813Z",
         "60eb0385-b23a-43ae-9a8a-7afc7104ad93"
        ],
        [
         "8",
         "PwC Cars",
         "2024-08-29T19:53:29.5553813Z",
         "60eb0385-b23a-43ae-9a8a-7afc7104ad93"
        ],
        [
         "3",
         "Comfort Bicycles",
         "2024-08-29T19:53:29.5553813Z",
         "60eb0385-b23a-43ae-9a8a-7afc7104ad93"
        ],
        [
         "3",
         "Cruisers Bicycles",
         "2024-08-29T19:53:29.5553813Z",
         "60eb0385-b23a-43ae-9a8a-7afc7104ad93"
        ]
       ],
       "datasetInfos": [],
       "dbfsResultPath": null,
       "isJsonSchema": true,
       "metadata": {},
       "overflow": false,
       "plotOptions": {
        "customPlotOptions": {},
        "displayType": "table",
        "pivotAggregation": null,
        "pivotColumns": null,
        "xColumns": null,
        "yColumns": null
       },
       "removedWidgets": [],
       "schema": [
        {
         "metadata": "{}",
         "name": "category_id",
         "type": "\"string\""
        },
        {
         "metadata": "{}",
         "name": "category_name",
         "type": "\"string\""
        },
        {
         "metadata": "{}",
         "name": "time_stamp",
         "type": "\"string\""
        },
        {
         "metadata": "{}",
         "name": "process_id",
         "type": "\"string\""
        }
       ],
       "type": "table"
      }
     },
     "output_type": "display_data"
    },
    {
     "output_type": "display_data",
     "data": {
      "text/plain": [
       "Databricks data profile. Run in Databricks to view."
      ]
     },
     "metadata": {
      "application/vnd.databricks.v1.subcommand+json": {
       "baseErrorDetails": null,
       "bindings": {},
       "collapsed": false,
       "command": "%python\nif hasattr(dbutils, \"data\") and hasattr(dbutils.data, \"summarize\"):\n  # setup\n  __data_summary_display_orig = display\n  __data_summary_dfs = []\n  def __data_summary_display_new(df):\n    # add only when result is going to be table type\n    __data_summary_df_modules = [\"pandas.core.frame\", \"databricks.koalas.frame\", \"pyspark.sql.dataframe\", \"pyspark.pandas.frame\", \"pyspark.sql.connect.dataframe\"]\n    if (type(df).__module__ in __data_summary_df_modules and type(df).__name__ == 'DataFrame') or isinstance(df, list):\n      __data_summary_dfs.append(df)\n  display = __data_summary_display_new\n\n  def __data_summary_user_code_fn():\n    import base64\n    exec(base64.standard_b64decode(\"ZGlzcGxheShjYXRlZ29yaWVzX2RmKQ==\").decode())\n\n  try:\n    # run user code\n    __data_summary_user_code_fn()\n\n    # run on valid tableResultIndex\n    if len(__data_summary_dfs) > 0:\n      # run summarize\n      if type(__data_summary_dfs[0]).__module__ == \"databricks.koalas.frame\":\n        # koalas dataframe\n        dbutils.data.summarize(__data_summary_dfs[0].to_spark())\n      elif type(__data_summary_dfs[0]).__module__ == \"pandas.core.frame\":\n        # pandas dataframe\n        dbutils.data.summarize(spark.createDataFrame(__data_summary_dfs[0]))\n      else:\n        dbutils.data.summarize(__data_summary_dfs[0])\n    else:\n        displayHTML(\"dataframe no longer exists. If you're using dataframe.display(), use display(dataframe) instead.\")\n\n  finally:\n    display = __data_summary_display_orig\n    del __data_summary_display_new\n    del __data_summary_display_orig\n    del __data_summary_dfs\n    del __data_summary_user_code_fn\nelse:\n  print(\"This DBR version does not support data profiles.\")",
       "commandTitle": "Data Profile 1",
       "commandType": "auto",
       "commandVersion": 0,
       "commentThread": [],
       "commentsVisible": false,
       "contentSha256Hex": null,
       "customPlotOptions": {},
       "datasetPreviewNameToCmdIdMap": {},
       "diffDeletes": [],
       "diffInserts": [],
       "displayType": "table",
       "error": null,
       "errorDetails": null,
       "errorSummary": null,
       "errorTraceType": null,
       "finishTime": 1725122945504,
       "globalVars": {},
       "guid": "",
       "height": "auto",
       "hideCommandCode": false,
       "hideCommandResult": false,
       "iPythonMetadata": null,
       "inputWidgets": {},
       "isLockedInExamMode": false,
       "latestUser": "a user",
       "latestUserId": null,
       "listResultMetadata": [
        [
         "mimeBundle",
         null
        ]
       ],
       "metadata": {
        "byteLimit": 2048000,
        "rowLimit": 10000
       },
       "nuid": "4edbc568-456f-40f5-9493-8e8d96273b59",
       "origId": 0,
       "parentHierarchy": [],
       "pivotAggregation": null,
       "pivotColumns": null,
       "position": 2.6181640625,
       "resultDbfsErrorMessage": null,
       "resultDbfsStatus": "INLINED_IN_TREE",
       "results": {
        "arguments": {},
        "data": "Failed to fetch the result.",
        "metadata": {},
        "type": "raw"
       },
       "showCommandTitle": false,
       "startTime": 1725122944862,
       "state": "finished",
       "streamStates": {},
       "subcommandOptions": null,
       "submitTime": 1725122944811,
       "subtype": "tableResultSubCmd.dataSummary",
       "tableResultIndex": 0,
       "useConsistentColors": false,
       "version": "CommandV1",
       "width": "auto",
       "workflows": [],
       "xColumns": null,
       "yColumns": null
      }
     },
     "output_type": "display_data"
    }
   ],
   "source": [
    "display(categories_df)"
   ]
  },
  {
   "cell_type": "code",
   "execution_count": 0,
   "metadata": {
    "application/vnd.databricks.v1+cell": {
     "cellMetadata": {
      "byteLimit": 2048000,
      "rowLimit": 10000
     },
     "inputWidgets": {},
     "nuid": "129ef763-397d-4c55-83d6-018935204cee",
     "showTitle": false,
     "title": ""
    }
   },
   "outputs": [
    {
     "output_type": "display_data",
     "data": {
      "text/html": [
       "<style scoped>\n",
       "  .table-result-container {\n",
       "    max-height: 300px;\n",
       "    overflow: auto;\n",
       "  }\n",
       "  table, th, td {\n",
       "    border: 1px solid black;\n",
       "    border-collapse: collapse;\n",
       "  }\n",
       "  th, td {\n",
       "    padding: 5px;\n",
       "  }\n",
       "  th {\n",
       "    text-align: left;\n",
       "  }\n",
       "</style><div class='table-result-container'><table class='table-result'><thead style='background-color: white'><tr><th>store_id</th><th>store_name</th><th>phone</th><th>email</th><th>street</th><th>city</th><th>state</th><th>zip_code</th><th>time_stamp</th><th>process_id</th></tr></thead><tbody><tr><td>1</td><td>Santa Cruz Bikes</td><td>(831) 476-4321</td><td>santacruz@bikes.shop</td><td>3700 Portola Drive</td><td>Santa Cruz</td><td>CA</td><td>95060</td><td>2024-08-29T19:54:49.7832203Z</td><td>914fbcbb-bfb6-48fd-a12f-48b89a59f9e2</td></tr><tr><td>2</td><td>Baldwin Bikes</td><td>(516) 379-8888</td><td>baldwin@bikes.shop</td><td>4200 Chestnut Lane</td><td>Baldwin</td><td>NY</td><td>11432</td><td>2024-08-29T19:54:49.7832203Z</td><td>914fbcbb-bfb6-48fd-a12f-48b89a59f9e2</td></tr><tr><td>3</td><td>Rowlett Bikes</td><td>(972) 530-5555</td><td>rowlett@bikes.shop</td><td>8000 Fairway Avenue</td><td>Rowlett</td><td>TX</td><td>75088</td><td>2024-08-29T19:54:49.7832203Z</td><td>914fbcbb-bfb6-48fd-a12f-48b89a59f9e2</td></tr><tr><td>4</td><td>Mohamed Ali</td><td>NULL</td><td>Mohamed.d.ali@pwc.com</td><td>101 Good Morning</td><td>Cairo</td><td>NULL</td><td>11835</td><td>2024-08-29T19:54:49.7832203Z</td><td>914fbcbb-bfb6-48fd-a12f-48b89a59f9e2</td></tr></tbody></table></div>"
      ]
     },
     "metadata": {
      "application/vnd.databricks.v1+output": {
       "addedWidgets": {},
       "aggData": [],
       "aggError": "",
       "aggOverflow": false,
       "aggSchema": [],
       "aggSeriesLimitReached": false,
       "aggType": "",
       "arguments": {},
       "columnCustomDisplayInfos": {},
       "data": [
        [
         "1",
         "Santa Cruz Bikes",
         "(831) 476-4321",
         "santacruz@bikes.shop",
         "3700 Portola Drive",
         "Santa Cruz",
         "CA",
         "95060",
         "2024-08-29T19:54:49.7832203Z",
         "914fbcbb-bfb6-48fd-a12f-48b89a59f9e2"
        ],
        [
         "2",
         "Baldwin Bikes",
         "(516) 379-8888",
         "baldwin@bikes.shop",
         "4200 Chestnut Lane",
         "Baldwin",
         "NY",
         "11432",
         "2024-08-29T19:54:49.7832203Z",
         "914fbcbb-bfb6-48fd-a12f-48b89a59f9e2"
        ],
        [
         "3",
         "Rowlett Bikes",
         "(972) 530-5555",
         "rowlett@bikes.shop",
         "8000 Fairway Avenue",
         "Rowlett",
         "TX",
         "75088",
         "2024-08-29T19:54:49.7832203Z",
         "914fbcbb-bfb6-48fd-a12f-48b89a59f9e2"
        ],
        [
         "4",
         "Mohamed Ali",
         "NULL",
         "Mohamed.d.ali@pwc.com",
         "101 Good Morning",
         "Cairo",
         "NULL",
         "11835",
         "2024-08-29T19:54:49.7832203Z",
         "914fbcbb-bfb6-48fd-a12f-48b89a59f9e2"
        ]
       ],
       "datasetInfos": [],
       "dbfsResultPath": null,
       "isJsonSchema": true,
       "metadata": {},
       "overflow": false,
       "plotOptions": {
        "customPlotOptions": {},
        "displayType": "table",
        "pivotAggregation": null,
        "pivotColumns": null,
        "xColumns": null,
        "yColumns": null
       },
       "removedWidgets": [],
       "schema": [
        {
         "metadata": "{}",
         "name": "store_id",
         "type": "\"string\""
        },
        {
         "metadata": "{}",
         "name": "store_name",
         "type": "\"string\""
        },
        {
         "metadata": "{}",
         "name": "phone",
         "type": "\"string\""
        },
        {
         "metadata": "{}",
         "name": "email",
         "type": "\"string\""
        },
        {
         "metadata": "{}",
         "name": "street",
         "type": "\"string\""
        },
        {
         "metadata": "{}",
         "name": "city",
         "type": "\"string\""
        },
        {
         "metadata": "{}",
         "name": "state",
         "type": "\"string\""
        },
        {
         "metadata": "{}",
         "name": "zip_code",
         "type": "\"string\""
        },
        {
         "metadata": "{}",
         "name": "time_stamp",
         "type": "\"string\""
        },
        {
         "metadata": "{}",
         "name": "process_id",
         "type": "\"string\""
        }
       ],
       "type": "table"
      }
     },
     "output_type": "display_data"
    },
    {
     "output_type": "display_data",
     "data": {
      "text/plain": [
       "Databricks data profile. Run in Databricks to view."
      ]
     },
     "metadata": {
      "application/vnd.databricks.v1.subcommand+json": {
       "baseErrorDetails": null,
       "bindings": {},
       "collapsed": false,
       "command": "%python\nif hasattr(dbutils, \"data\") and hasattr(dbutils.data, \"summarize\"):\n  # setup\n  __data_summary_display_orig = display\n  __data_summary_dfs = []\n  def __data_summary_display_new(df):\n    # add only when result is going to be table type\n    __data_summary_df_modules = [\"pandas.core.frame\", \"databricks.koalas.frame\", \"pyspark.sql.dataframe\", \"pyspark.pandas.frame\", \"pyspark.sql.connect.dataframe\"]\n    if (type(df).__module__ in __data_summary_df_modules and type(df).__name__ == 'DataFrame') or isinstance(df, list):\n      __data_summary_dfs.append(df)\n  display = __data_summary_display_new\n\n  def __data_summary_user_code_fn():\n    import base64\n    exec(base64.standard_b64decode(\"ZGlzcGxheShzdG9yZXNfZGYp\").decode())\n\n  try:\n    # run user code\n    __data_summary_user_code_fn()\n\n    # run on valid tableResultIndex\n    if len(__data_summary_dfs) > 0:\n      # run summarize\n      if type(__data_summary_dfs[0]).__module__ == \"databricks.koalas.frame\":\n        # koalas dataframe\n        dbutils.data.summarize(__data_summary_dfs[0].to_spark())\n      elif type(__data_summary_dfs[0]).__module__ == \"pandas.core.frame\":\n        # pandas dataframe\n        dbutils.data.summarize(spark.createDataFrame(__data_summary_dfs[0]))\n      else:\n        dbutils.data.summarize(__data_summary_dfs[0])\n    else:\n        displayHTML(\"dataframe no longer exists. If you're using dataframe.display(), use display(dataframe) instead.\")\n\n  finally:\n    display = __data_summary_display_orig\n    del __data_summary_display_new\n    del __data_summary_display_orig\n    del __data_summary_dfs\n    del __data_summary_user_code_fn\nelse:\n  print(\"This DBR version does not support data profiles.\")",
       "commandTitle": "Data Profile 1",
       "commandType": "auto",
       "commandVersion": 0,
       "commentThread": [],
       "commentsVisible": false,
       "contentSha256Hex": null,
       "customPlotOptions": {},
       "datasetPreviewNameToCmdIdMap": {},
       "diffDeletes": [],
       "diffInserts": [],
       "displayType": "table",
       "error": null,
       "errorDetails": null,
       "errorSummary": null,
       "errorTraceType": null,
       "finishTime": 1725122940701,
       "globalVars": {},
       "guid": "",
       "height": "auto",
       "hideCommandCode": false,
       "hideCommandResult": false,
       "iPythonMetadata": null,
       "inputWidgets": {},
       "isLockedInExamMode": false,
       "latestUser": "a user",
       "latestUserId": null,
       "listResultMetadata": [
        [
         "mimeBundle",
         null
        ]
       ],
       "metadata": {
        "byteLimit": 2048000,
        "rowLimit": 10000
       },
       "nuid": "2c2367fd-1122-42cf-b7bd-3116665a1dcf",
       "origId": 0,
       "parentHierarchy": [],
       "pivotAggregation": null,
       "pivotColumns": null,
       "position": 2.619140625,
       "resultDbfsErrorMessage": null,
       "resultDbfsStatus": "INLINED_IN_TREE",
       "results": {
        "arguments": {},
        "data": "Failed to fetch the result.",
        "metadata": {},
        "type": "raw"
       },
       "showCommandTitle": false,
       "startTime": 1725122939707,
       "state": "finished",
       "streamStates": {},
       "subcommandOptions": null,
       "submitTime": 1725122939662,
       "subtype": "tableResultSubCmd.dataSummary",
       "tableResultIndex": 0,
       "useConsistentColors": false,
       "version": "CommandV1",
       "width": "auto",
       "workflows": [],
       "xColumns": null,
       "yColumns": null
      }
     },
     "output_type": "display_data"
    }
   ],
   "source": [
    "display(stores_df)"
   ]
  },
  {
   "cell_type": "code",
   "execution_count": 0,
   "metadata": {
    "application/vnd.databricks.v1+cell": {
     "cellMetadata": {
      "byteLimit": 2048000,
      "rowLimit": 10000
     },
     "inputWidgets": {},
     "nuid": "791994a1-f9b6-4acf-a45b-ea96f729d6fb",
     "showTitle": false,
     "title": ""
    }
   },
   "outputs": [
    {
     "output_type": "display_data",
     "data": {
      "text/html": [
       "<style scoped>\n",
       "  .table-result-container {\n",
       "    max-height: 300px;\n",
       "    overflow: auto;\n",
       "  }\n",
       "  table, th, td {\n",
       "    border: 1px solid black;\n",
       "    border-collapse: collapse;\n",
       "  }\n",
       "  th, td {\n",
       "    padding: 5px;\n",
       "  }\n",
       "  th {\n",
       "    text-align: left;\n",
       "  }\n",
       "</style><div class='table-result-container'><table class='table-result'><thead style='background-color: white'><tr><th>staff_id</th><th>first_name</th><th>last_name</th><th>email</th><th>phone</th><th>active</th><th>store_id</th><th>manager_id</th><th>time_stamp</th><th>process_id</th></tr></thead><tbody><tr><td>1</td><td>Fabiola</td><td>Jackson</td><td>fabiola.jackson@bikes.shop</td><td>(831) 555-5554</td><td>1</td><td>1</td><td>NULL</td><td>2024-08-29T19:53:49.1301191Z</td><td>779c8c5b-b3cf-416d-873f-af7c02f6c3e5</td></tr><tr><td>2</td><td>Mireya</td><td>Copeland</td><td>mireya.copeland@bikes.shop</td><td>(831) 555-5555</td><td>1</td><td>1</td><td>1</td><td>2024-08-29T19:53:49.1301191Z</td><td>779c8c5b-b3cf-416d-873f-af7c02f6c3e5</td></tr><tr><td>2</td><td>Mohamed</td><td>Ali</td><td>Mohamed.d.ali@pwc.com</td><td>(xxx) xxx-xxx</td><td>1</td><td>1</td><td>1</td><td>2024-08-29T19:53:49.1301191Z</td><td>779c8c5b-b3cf-416d-873f-af7c02f6c3e5</td></tr><tr><td>3</td><td>Genna</td><td>Serrano</td><td>genna.serrano@bikes.shop</td><td>(831) 555-5556</td><td>1</td><td>1</td><td>2</td><td>2024-08-29T19:53:49.1301191Z</td><td>779c8c5b-b3cf-416d-873f-af7c02f6c3e5</td></tr><tr><td>4</td><td>Virgie</td><td>Wiggins</td><td>virgie.wiggins@bikes.shop</td><td>(831) 555-5557</td><td>1</td><td>1</td><td>2</td><td>2024-08-29T19:53:49.1301191Z</td><td>779c8c5b-b3cf-416d-873f-af7c02f6c3e5</td></tr><tr><td>5</td><td>Jannette</td><td>David</td><td>jannette.david@bikes.shop</td><td>(516) 379-4444</td><td>1</td><td>2</td><td>1</td><td>2024-08-29T19:53:49.1301191Z</td><td>779c8c5b-b3cf-416d-873f-af7c02f6c3e5</td></tr><tr><td>6</td><td>Marcelene</td><td>Boyer</td><td>marcelene.boyer@bikes.shop</td><td>(516) 379-4445</td><td>1</td><td>2</td><td>5</td><td>2024-08-29T19:53:49.1301191Z</td><td>779c8c5b-b3cf-416d-873f-af7c02f6c3e5</td></tr><tr><td>7</td><td>Venita</td><td>Daniel</td><td>venita.daniel@bikes.shop</td><td>(516) 379-4446</td><td>1</td><td>2</td><td>5</td><td>2024-08-29T19:53:49.1301191Z</td><td>779c8c5b-b3cf-416d-873f-af7c02f6c3e5</td></tr><tr><td>11</td><td>Virgie</td><td>Wiggins</td><td>virgie.wiggins@bikes.shop</td><td>(831) 555-5557</td><td>1</td><td>1</td><td>2</td><td>2024-08-29T19:53:49.1301191Z</td><td>779c8c5b-b3cf-416d-873f-af7c02f6c3e5</td></tr><tr><td>8</td><td>Kali</td><td>Vargas</td><td>kali.vargas@bikes.bop</td><td>(972) 530-5555</td><td>1</td><td>3</td><td>1</td><td>2024-08-29T19:53:49.1301191Z</td><td>779c8c5b-b3cf-416d-873f-af7c02f6c3e5</td></tr><tr><td>9</td><td>Layla</td><td>Terrell</td><td>layla.terrell@bikes.shop</td><td>(972) 530-5556</td><td>1</td><td>3</td><td>7</td><td>2024-08-29T19:53:49.1301191Z</td><td>779c8c5b-b3cf-416d-873f-af7c02f6c3e5</td></tr><tr><td>10</td><td>Bernardine</td><td>Houston</td><td>bernardine.houston@bikes.shop</td><td>(972) 530-5557</td><td>1</td><td>3</td><td>7</td><td>2024-08-29T19:53:49.1301191Z</td><td>779c8c5b-b3cf-416d-873f-af7c02f6c3e5</td></tr><tr><td>11</td><td>Jannette</td><td>David</td><td>jannette.david@bikes.shop</td><td>(516) 379-4444</td><td>1</td><td>2</td><td>1</td><td>2024-08-29T19:53:49.1301191Z</td><td>779c8c5b-b3cf-416d-873f-af7c02f6c3e5</td></tr></tbody></table></div>"
      ]
     },
     "metadata": {
      "application/vnd.databricks.v1+output": {
       "addedWidgets": {},
       "aggData": [],
       "aggError": "",
       "aggOverflow": false,
       "aggSchema": [],
       "aggSeriesLimitReached": false,
       "aggType": "",
       "arguments": {},
       "columnCustomDisplayInfos": {},
       "data": [
        [
         "1",
         "Fabiola",
         "Jackson",
         "fabiola.jackson@bikes.shop",
         "(831) 555-5554",
         "1",
         "1",
         "NULL",
         "2024-08-29T19:53:49.1301191Z",
         "779c8c5b-b3cf-416d-873f-af7c02f6c3e5"
        ],
        [
         "2",
         "Mireya",
         "Copeland",
         "mireya.copeland@bikes.shop",
         "(831) 555-5555",
         "1",
         "1",
         "1",
         "2024-08-29T19:53:49.1301191Z",
         "779c8c5b-b3cf-416d-873f-af7c02f6c3e5"
        ],
        [
         "2",
         "Mohamed",
         "Ali",
         "Mohamed.d.ali@pwc.com",
         "(xxx) xxx-xxx",
         "1",
         "1",
         "1",
         "2024-08-29T19:53:49.1301191Z",
         "779c8c5b-b3cf-416d-873f-af7c02f6c3e5"
        ],
        [
         "3",
         "Genna",
         "Serrano",
         "genna.serrano@bikes.shop",
         "(831) 555-5556",
         "1",
         "1",
         "2",
         "2024-08-29T19:53:49.1301191Z",
         "779c8c5b-b3cf-416d-873f-af7c02f6c3e5"
        ],
        [
         "4",
         "Virgie",
         "Wiggins",
         "virgie.wiggins@bikes.shop",
         "(831) 555-5557",
         "1",
         "1",
         "2",
         "2024-08-29T19:53:49.1301191Z",
         "779c8c5b-b3cf-416d-873f-af7c02f6c3e5"
        ],
        [
         "5",
         "Jannette",
         "David",
         "jannette.david@bikes.shop",
         "(516) 379-4444",
         "1",
         "2",
         "1",
         "2024-08-29T19:53:49.1301191Z",
         "779c8c5b-b3cf-416d-873f-af7c02f6c3e5"
        ],
        [
         "6",
         "Marcelene",
         "Boyer",
         "marcelene.boyer@bikes.shop",
         "(516) 379-4445",
         "1",
         "2",
         "5",
         "2024-08-29T19:53:49.1301191Z",
         "779c8c5b-b3cf-416d-873f-af7c02f6c3e5"
        ],
        [
         "7",
         "Venita",
         "Daniel",
         "venita.daniel@bikes.shop",
         "(516) 379-4446",
         "1",
         "2",
         "5",
         "2024-08-29T19:53:49.1301191Z",
         "779c8c5b-b3cf-416d-873f-af7c02f6c3e5"
        ],
        [
         "11",
         "Virgie",
         "Wiggins",
         "virgie.wiggins@bikes.shop",
         "(831) 555-5557",
         "1",
         "1",
         "2",
         "2024-08-29T19:53:49.1301191Z",
         "779c8c5b-b3cf-416d-873f-af7c02f6c3e5"
        ],
        [
         "8",
         "Kali",
         "Vargas",
         "kali.vargas@bikes.bop",
         "(972) 530-5555",
         "1",
         "3",
         "1",
         "2024-08-29T19:53:49.1301191Z",
         "779c8c5b-b3cf-416d-873f-af7c02f6c3e5"
        ],
        [
         "9",
         "Layla",
         "Terrell",
         "layla.terrell@bikes.shop",
         "(972) 530-5556",
         "1",
         "3",
         "7",
         "2024-08-29T19:53:49.1301191Z",
         "779c8c5b-b3cf-416d-873f-af7c02f6c3e5"
        ],
        [
         "10",
         "Bernardine",
         "Houston",
         "bernardine.houston@bikes.shop",
         "(972) 530-5557",
         "1",
         "3",
         "7",
         "2024-08-29T19:53:49.1301191Z",
         "779c8c5b-b3cf-416d-873f-af7c02f6c3e5"
        ],
        [
         "11",
         "Jannette",
         "David",
         "jannette.david@bikes.shop",
         "(516) 379-4444",
         "1",
         "2",
         "1",
         "2024-08-29T19:53:49.1301191Z",
         "779c8c5b-b3cf-416d-873f-af7c02f6c3e5"
        ]
       ],
       "datasetInfos": [],
       "dbfsResultPath": null,
       "isJsonSchema": true,
       "metadata": {},
       "overflow": false,
       "plotOptions": {
        "customPlotOptions": {},
        "displayType": "table",
        "pivotAggregation": null,
        "pivotColumns": null,
        "xColumns": null,
        "yColumns": null
       },
       "removedWidgets": [],
       "schema": [
        {
         "metadata": "{}",
         "name": "staff_id",
         "type": "\"string\""
        },
        {
         "metadata": "{}",
         "name": "first_name",
         "type": "\"string\""
        },
        {
         "metadata": "{}",
         "name": "last_name",
         "type": "\"string\""
        },
        {
         "metadata": "{}",
         "name": "email",
         "type": "\"string\""
        },
        {
         "metadata": "{}",
         "name": "phone",
         "type": "\"string\""
        },
        {
         "metadata": "{}",
         "name": "active",
         "type": "\"string\""
        },
        {
         "metadata": "{}",
         "name": "store_id",
         "type": "\"string\""
        },
        {
         "metadata": "{}",
         "name": "manager_id",
         "type": "\"string\""
        },
        {
         "metadata": "{}",
         "name": "time_stamp",
         "type": "\"string\""
        },
        {
         "metadata": "{}",
         "name": "process_id",
         "type": "\"string\""
        }
       ],
       "type": "table"
      }
     },
     "output_type": "display_data"
    },
    {
     "output_type": "display_data",
     "data": {
      "text/plain": [
       "Databricks data profile. Run in Databricks to view."
      ]
     },
     "metadata": {
      "application/vnd.databricks.v1.subcommand+json": {
       "baseErrorDetails": null,
       "bindings": {},
       "collapsed": false,
       "command": "%python\nif hasattr(dbutils, \"data\") and hasattr(dbutils.data, \"summarize\"):\n  # setup\n  __data_summary_display_orig = display\n  __data_summary_dfs = []\n  def __data_summary_display_new(df):\n    # add only when result is going to be table type\n    __data_summary_df_modules = [\"pandas.core.frame\", \"databricks.koalas.frame\", \"pyspark.sql.dataframe\", \"pyspark.pandas.frame\", \"pyspark.sql.connect.dataframe\"]\n    if (type(df).__module__ in __data_summary_df_modules and type(df).__name__ == 'DataFrame') or isinstance(df, list):\n      __data_summary_dfs.append(df)\n  display = __data_summary_display_new\n\n  def __data_summary_user_code_fn():\n    import base64\n    exec(base64.standard_b64decode(\"ZGlzcGxheShzdGFmZnNfZGYp\").decode())\n\n  try:\n    # run user code\n    __data_summary_user_code_fn()\n\n    # run on valid tableResultIndex\n    if len(__data_summary_dfs) > 0:\n      # run summarize\n      if type(__data_summary_dfs[0]).__module__ == \"databricks.koalas.frame\":\n        # koalas dataframe\n        dbutils.data.summarize(__data_summary_dfs[0].to_spark())\n      elif type(__data_summary_dfs[0]).__module__ == \"pandas.core.frame\":\n        # pandas dataframe\n        dbutils.data.summarize(spark.createDataFrame(__data_summary_dfs[0]))\n      else:\n        dbutils.data.summarize(__data_summary_dfs[0])\n    else:\n        displayHTML(\"dataframe no longer exists. If you're using dataframe.display(), use display(dataframe) instead.\")\n\n  finally:\n    display = __data_summary_display_orig\n    del __data_summary_display_new\n    del __data_summary_display_orig\n    del __data_summary_dfs\n    del __data_summary_user_code_fn\nelse:\n  print(\"This DBR version does not support data profiles.\")",
       "commandTitle": "Data Profile 1",
       "commandType": "auto",
       "commandVersion": 0,
       "commentThread": [],
       "commentsVisible": false,
       "contentSha256Hex": null,
       "customPlotOptions": {},
       "datasetPreviewNameToCmdIdMap": {},
       "diffDeletes": [],
       "diffInserts": [],
       "displayType": "table",
       "error": null,
       "errorDetails": null,
       "errorSummary": null,
       "errorTraceType": null,
       "finishTime": 1725122936398,
       "globalVars": {},
       "guid": "",
       "height": "auto",
       "hideCommandCode": false,
       "hideCommandResult": false,
       "iPythonMetadata": null,
       "inputWidgets": {},
       "isLockedInExamMode": false,
       "latestUser": "a user",
       "latestUserId": null,
       "listResultMetadata": [
        [
         "mimeBundle",
         null
        ]
       ],
       "metadata": {
        "byteLimit": 2048000,
        "rowLimit": 10000
       },
       "nuid": "20febd29-49bc-4ab9-9cb7-f88117310a3e",
       "origId": 0,
       "parentHierarchy": [],
       "pivotAggregation": null,
       "pivotColumns": null,
       "position": 2.62109375,
       "resultDbfsErrorMessage": null,
       "resultDbfsStatus": "INLINED_IN_TREE",
       "results": {
        "arguments": {},
        "data": "Failed to fetch the result.",
        "metadata": {},
        "type": "raw"
       },
       "showCommandTitle": false,
       "startTime": 1725122935314,
       "state": "finished",
       "streamStates": {},
       "subcommandOptions": null,
       "submitTime": 1725122935250,
       "subtype": "tableResultSubCmd.dataSummary",
       "tableResultIndex": 0,
       "useConsistentColors": false,
       "version": "CommandV1",
       "width": "auto",
       "workflows": [],
       "xColumns": null,
       "yColumns": null
      }
     },
     "output_type": "display_data"
    }
   ],
   "source": [
    "display(staffs_df)"
   ]
  },
  {
   "cell_type": "code",
   "execution_count": 0,
   "metadata": {
    "application/vnd.databricks.v1+cell": {
     "cellMetadata": {
      "byteLimit": 2048000,
      "rowLimit": 10000
     },
     "inputWidgets": {},
     "nuid": "eddd7d2d-384c-43a4-86e3-a1186ae7a610",
     "showTitle": false,
     "title": ""
    }
   },
   "outputs": [],
   "source": [
    "display(customers_df)"
   ]
  },
  {
   "cell_type": "code",
   "execution_count": 0,
   "metadata": {
    "application/vnd.databricks.v1+cell": {
     "cellMetadata": {
      "byteLimit": 2048000,
      "rowLimit": 10000
     },
     "inputWidgets": {},
     "nuid": "6459a55b-4ead-4ea4-87d1-7f58f6345750",
     "showTitle": false,
     "title": ""
    }
   },
   "outputs": [],
   "source": [
    "display(order_df)"
   ]
  },
  {
   "cell_type": "code",
   "execution_count": 0,
   "metadata": {
    "application/vnd.databricks.v1+cell": {
     "cellMetadata": {
      "byteLimit": 2048000,
      "rowLimit": 10000
     },
     "inputWidgets": {},
     "nuid": "64769a78-fb8a-4aec-a7ed-433b6f9bfe2b",
     "showTitle": false,
     "title": ""
    }
   },
   "outputs": [],
   "source": [
    "display(order_items_df)"
   ]
  },
  {
   "cell_type": "code",
   "execution_count": 0,
   "metadata": {
    "application/vnd.databricks.v1+cell": {
     "cellMetadata": {},
     "inputWidgets": {},
     "nuid": "c84a8d08-14ca-4471-a1d5-ddfa30a3eae9",
     "showTitle": false,
     "title": ""
    }
   },
   "outputs": [],
   "source": [
    "display()"
   ]
  },
  {
   "cell_type": "code",
   "execution_count": 0,
   "metadata": {
    "application/vnd.databricks.v1+cell": {
     "cellMetadata": {
      "byteLimit": 2048000,
      "rowLimit": 10000
     },
     "inputWidgets": {},
     "nuid": "7096a6cd-c8a7-49ab-a8b2-d6c051b2963c",
     "showTitle": false,
     "title": ""
    }
   },
   "outputs": [],
   "source": [
    "def read_files_from_metadata(metadata_path: str, base_path: str = None) -> DataFrame:\n",
    "    # Initialize SparkSession\n",
    "    spark = SparkSession.builder.appName(\"ReadFilesFromMetadata\").getOrCreate()\n",
    "\n",
    "    # Load metadata CSV into DataFrame\n",
    "    metadata = spark.read.csv(metadata_path, header=True)\n",
    "\n",
    "    # Initialize an empty DataFrame to concatenate all file data\n",
    "    combined_df = None\n",
    "\n",
    "    for row in metadata.collect():\n",
    "        # Construct the file path\n",
    "        file_path = row['file_path']\n",
    "        if base_path:\n",
    "            file_path = f\"{base_path}/{file_path}\"\n",
    "        \n",
    "        # Determine the file type and read the file accordingly\n",
    "        file_type = row['file_type'].lower()\n",
    "        \n",
    "        if file_type == 'csv':\n",
    "            df = spark.read.csv(file_path, header=True)\n",
    "        elif file_type == 'parquet':\n",
    "            df = spark.read.parquet(file_path)\n",
    "        elif file_type == 'json':\n",
    "            df = spark.read.json(file_path)\n",
    "        else:\n",
    "            raise ValueError(f\"Unsupported file type: {file_type}\")\n",
    "\n",
    "        # Combine the DataFrames\n",
    "        if combined_df is None:\n",
    "            combined_df = df\n",
    "        else:\n",
    "            combined_df = combined_df.union(df)\n",
    "\n",
    "    return combined_df\n"
   ]
  },
  {
   "cell_type": "code",
   "execution_count": 0,
   "metadata": {
    "application/vnd.databricks.v1+cell": {
     "cellMetadata": {},
     "inputWidgets": {},
     "nuid": "2eb38264-6764-457d-98f2-b0f9c1ab26b2",
     "showTitle": false,
     "title": ""
    }
   },
   "outputs": [],
   "source": []
  },
  {
   "cell_type": "code",
   "execution_count": 0,
   "metadata": {
    "application/vnd.databricks.v1+cell": {
     "cellMetadata": {
      "byteLimit": 2048000,
      "rowLimit": 10000
     },
     "inputWidgets": {},
     "nuid": "ccf554ba-a396-4654-bc36-f9386768628a",
     "showTitle": false,
     "title": ""
    }
   },
   "outputs": [],
   "source": [
    "brands_df = spark.read.format(\"parquet\").load(\"wasbs://dlbikestorelanding@adlsbikestoreinterns.blob.core.windows.net/Mostafa_Landing/brands\")"
   ]
  },
  {
   "cell_type": "code",
   "execution_count": 0,
   "metadata": {
    "application/vnd.databricks.v1+cell": {
     "cellMetadata": {
      "byteLimit": 2048000,
      "rowLimit": 10000
     },
     "collapsed": true,
     "inputWidgets": {},
     "nuid": "5e955bea-c73b-44de-b44a-24952aefaabe",
     "showTitle": false,
     "title": ""
    }
   },
   "outputs": [
    {
     "output_type": "display_data",
     "data": {
      "text/html": [
       "<style scoped>\n",
       "  .table-result-container {\n",
       "    max-height: 300px;\n",
       "    overflow: auto;\n",
       "  }\n",
       "  table, th, td {\n",
       "    border: 1px solid black;\n",
       "    border-collapse: collapse;\n",
       "  }\n",
       "  th, td {\n",
       "    padding: 5px;\n",
       "  }\n",
       "  th {\n",
       "    text-align: left;\n",
       "  }\n",
       "</style><div class='table-result-container'><table class='table-result'><thead style='background-color: white'><tr><th>brand_id</th><th>brand_name</th><th>time_stamp</th><th>process_id</th></tr></thead><tbody><tr><td>1</td><td>Electra</td><td>2024-08-26T17:36:27.3510467Z</td><td>d1a875a5-45ef-4b49-aae6-1a434596676a</td></tr><tr><td>2</td><td>Haro</td><td>2024-08-26T17:36:27.3510467Z</td><td>d1a875a5-45ef-4b49-aae6-1a434596676a</td></tr><tr><td>3</td><td>Heller</td><td>2024-08-26T17:36:27.3510467Z</td><td>d1a875a5-45ef-4b49-aae6-1a434596676a</td></tr><tr><td>4</td><td>Pure Cycles</td><td>2024-08-26T17:36:27.3510467Z</td><td>d1a875a5-45ef-4b49-aae6-1a434596676a</td></tr><tr><td>5</td><td>Ritchey</td><td>2024-08-26T17:36:27.3510467Z</td><td>d1a875a5-45ef-4b49-aae6-1a434596676a</td></tr><tr><td>6</td><td>Strider</td><td>2024-08-26T17:36:27.3510467Z</td><td>d1a875a5-45ef-4b49-aae6-1a434596676a</td></tr><tr><td>7</td><td>Sun Bicycles</td><td>2024-08-26T17:36:27.3510467Z</td><td>d1a875a5-45ef-4b49-aae6-1a434596676a</td></tr><tr><td>8</td><td>Surly</td><td>2024-08-26T17:36:27.3510467Z</td><td>d1a875a5-45ef-4b49-aae6-1a434596676a</td></tr><tr><td>9</td><td>Trek</td><td>2024-08-26T17:36:27.3510467Z</td><td>d1a875a5-45ef-4b49-aae6-1a434596676a</td></tr><tr><td>4</td><td>Pure Cycles</td><td>2024-08-26T17:36:27.3510467Z</td><td>d1a875a5-45ef-4b49-aae6-1a434596676a</td></tr><tr><td>7</td><td>Bicycle</td><td>2024-08-26T17:36:27.3510467Z</td><td>d1a875a5-45ef-4b49-aae6-1a434596676a</td></tr><tr><td>10</td><td>Heller</td><td>2024-08-26T17:36:27.3510467Z</td><td>d1a875a5-45ef-4b49-aae6-1a434596676a</td></tr></tbody></table></div>"
      ]
     },
     "metadata": {
      "application/vnd.databricks.v1+output": {
       "addedWidgets": {},
       "aggData": [],
       "aggError": "",
       "aggOverflow": false,
       "aggSchema": [],
       "aggSeriesLimitReached": false,
       "aggType": "",
       "arguments": {},
       "columnCustomDisplayInfos": {},
       "data": [
        [
         "1",
         "Electra",
         "2024-08-26T17:36:27.3510467Z",
         "d1a875a5-45ef-4b49-aae6-1a434596676a"
        ],
        [
         "2",
         "Haro",
         "2024-08-26T17:36:27.3510467Z",
         "d1a875a5-45ef-4b49-aae6-1a434596676a"
        ],
        [
         "3",
         "Heller",
         "2024-08-26T17:36:27.3510467Z",
         "d1a875a5-45ef-4b49-aae6-1a434596676a"
        ],
        [
         "4",
         "Pure Cycles",
         "2024-08-26T17:36:27.3510467Z",
         "d1a875a5-45ef-4b49-aae6-1a434596676a"
        ],
        [
         "5",
         "Ritchey",
         "2024-08-26T17:36:27.3510467Z",
         "d1a875a5-45ef-4b49-aae6-1a434596676a"
        ],
        [
         "6",
         "Strider",
         "2024-08-26T17:36:27.3510467Z",
         "d1a875a5-45ef-4b49-aae6-1a434596676a"
        ],
        [
         "7",
         "Sun Bicycles",
         "2024-08-26T17:36:27.3510467Z",
         "d1a875a5-45ef-4b49-aae6-1a434596676a"
        ],
        [
         "8",
         "Surly",
         "2024-08-26T17:36:27.3510467Z",
         "d1a875a5-45ef-4b49-aae6-1a434596676a"
        ],
        [
         "9",
         "Trek",
         "2024-08-26T17:36:27.3510467Z",
         "d1a875a5-45ef-4b49-aae6-1a434596676a"
        ],
        [
         "4",
         "Pure Cycles",
         "2024-08-26T17:36:27.3510467Z",
         "d1a875a5-45ef-4b49-aae6-1a434596676a"
        ],
        [
         "7",
         "Bicycle",
         "2024-08-26T17:36:27.3510467Z",
         "d1a875a5-45ef-4b49-aae6-1a434596676a"
        ],
        [
         "10",
         "Heller",
         "2024-08-26T17:36:27.3510467Z",
         "d1a875a5-45ef-4b49-aae6-1a434596676a"
        ]
       ],
       "datasetInfos": [],
       "dbfsResultPath": null,
       "isJsonSchema": true,
       "metadata": {},
       "overflow": false,
       "plotOptions": {
        "customPlotOptions": {},
        "displayType": "table",
        "pivotAggregation": null,
        "pivotColumns": null,
        "xColumns": null,
        "yColumns": null
       },
       "removedWidgets": [],
       "schema": [
        {
         "metadata": "{}",
         "name": "brand_id",
         "type": "\"string\""
        },
        {
         "metadata": "{}",
         "name": "brand_name",
         "type": "\"string\""
        },
        {
         "metadata": "{}",
         "name": "time_stamp",
         "type": "\"string\""
        },
        {
         "metadata": "{}",
         "name": "process_id",
         "type": "\"string\""
        }
       ],
       "type": "table"
      }
     },
     "output_type": "display_data"
    },
    {
     "output_type": "display_data",
     "data": {
      "text/plain": [
       "Databricks data profile. Run in Databricks to view."
      ]
     },
     "metadata": {
      "application/vnd.databricks.v1.subcommand+json": {
       "baseErrorDetails": {
        "addedWidgets": {},
        "arguments": {},
        "datasetInfos": [],
        "jupyterProps": {
         "ename": "NameError",
         "evalue": "name 'brands_df' is not defined"
        },
        "metadata": {},
        "removedWidgets": [],
        "sqlProps": null,
        "stackFrames": [
         "\u001B[0;31m---------------------------------------------------------------------------\u001B[0m",
         "\u001B[0;31mNameError\u001B[0m                                 Traceback (most recent call last)",
         "File \u001B[0;32m<command-2360688046300967>, line 18\u001B[0m\n\u001B[1;32m     14\u001B[0m   exec(base64\u001B[38;5;241m.\u001B[39mstandard_b64decode(\u001B[38;5;124m\"\u001B[39m\u001B[38;5;124mZGlzcGxheShicmFuZHNfZGYp\u001B[39m\u001B[38;5;124m\"\u001B[39m)\u001B[38;5;241m.\u001B[39mdecode())\n\u001B[1;32m     16\u001B[0m \u001B[38;5;28;01mtry\u001B[39;00m:\n\u001B[1;32m     17\u001B[0m   \u001B[38;5;66;03m# run user code\u001B[39;00m\n\u001B[0;32m---> 18\u001B[0m   \u001B[43m__data_summary_user_code_fn\u001B[49m\u001B[43m(\u001B[49m\u001B[43m)\u001B[49m\n\u001B[1;32m     20\u001B[0m   \u001B[38;5;66;03m# run on valid tableResultIndex\u001B[39;00m\n\u001B[1;32m     21\u001B[0m   \u001B[38;5;28;01mif\u001B[39;00m \u001B[38;5;28mlen\u001B[39m(__data_summary_dfs) \u001B[38;5;241m>\u001B[39m \u001B[38;5;241m0\u001B[39m:\n\u001B[1;32m     22\u001B[0m     \u001B[38;5;66;03m# run summarize\u001B[39;00m\n",
         "File \u001B[0;32m<command-2360688046300967>, line 14\u001B[0m, in \u001B[0;36m__data_summary_user_code_fn\u001B[0;34m()\u001B[0m\n\u001B[1;32m     12\u001B[0m \u001B[38;5;28;01mdef\u001B[39;00m \u001B[38;5;21m__data_summary_user_code_fn\u001B[39m():\n\u001B[1;32m     13\u001B[0m   \u001B[38;5;28;01mimport\u001B[39;00m \u001B[38;5;21;01mbase64\u001B[39;00m\n\u001B[0;32m---> 14\u001B[0m   \u001B[43mexec\u001B[49m\u001B[43m(\u001B[49m\u001B[43mbase64\u001B[49m\u001B[38;5;241;43m.\u001B[39;49m\u001B[43mstandard_b64decode\u001B[49m\u001B[43m(\u001B[49m\u001B[38;5;124;43m\"\u001B[39;49m\u001B[38;5;124;43mZGlzcGxheShicmFuZHNfZGYp\u001B[39;49m\u001B[38;5;124;43m\"\u001B[39;49m\u001B[43m)\u001B[49m\u001B[38;5;241;43m.\u001B[39;49m\u001B[43mdecode\u001B[49m\u001B[43m(\u001B[49m\u001B[43m)\u001B[49m\u001B[43m)\u001B[49m\n",
         "File \u001B[0;32m<string>:1\u001B[0m\n",
         "\u001B[0;31mNameError\u001B[0m: name 'brands_df' is not defined"
        ],
        "type": "baseError"
       },
       "bindings": {},
       "collapsed": false,
       "command": "%python\nif hasattr(dbutils, \"data\") and hasattr(dbutils.data, \"summarize\"):\n  # setup\n  __data_summary_display_orig = display\n  __data_summary_dfs = []\n  def __data_summary_display_new(df):\n    # add only when result is going to be table type\n    __data_summary_df_modules = [\"pandas.core.frame\", \"databricks.koalas.frame\", \"pyspark.sql.dataframe\", \"pyspark.pandas.frame\", \"pyspark.sql.connect.dataframe\"]\n    if (type(df).__module__ in __data_summary_df_modules and type(df).__name__ == 'DataFrame') or isinstance(df, list):\n      __data_summary_dfs.append(df)\n  display = __data_summary_display_new\n\n  def __data_summary_user_code_fn():\n    import base64\n    exec(base64.standard_b64decode(\"ZGlzcGxheShicmFuZHNfZGYp\").decode())\n\n  try:\n    # run user code\n    __data_summary_user_code_fn()\n\n    # run on valid tableResultIndex\n    if len(__data_summary_dfs) > 0:\n      # run summarize\n      if type(__data_summary_dfs[0]).__module__ == \"databricks.koalas.frame\":\n        # koalas dataframe\n        dbutils.data.summarize(__data_summary_dfs[0].to_spark())\n      elif type(__data_summary_dfs[0]).__module__ == \"pandas.core.frame\":\n        # pandas dataframe\n        dbutils.data.summarize(spark.createDataFrame(__data_summary_dfs[0]))\n      else:\n        dbutils.data.summarize(__data_summary_dfs[0])\n    else:\n        displayHTML(\"dataframe no longer exists. If you're using dataframe.display(), use display(dataframe) instead.\")\n\n  finally:\n    display = __data_summary_display_orig\n    del __data_summary_display_new\n    del __data_summary_display_orig\n    del __data_summary_dfs\n    del __data_summary_user_code_fn\nelse:\n  print(\"This DBR version does not support data profiles.\")",
       "commandTitle": "Data Profile 1",
       "commandType": "auto",
       "commandVersion": 0,
       "commentThread": [],
       "commentsVisible": false,
       "contentSha256Hex": null,
       "customPlotOptions": {},
       "datasetPreviewNameToCmdIdMap": {},
       "diffDeletes": [],
       "diffInserts": [],
       "displayType": "table",
       "error": null,
       "errorDetails": null,
       "errorSummary": null,
       "errorTraceType": null,
       "finishTime": 1724919131141,
       "globalVars": {},
       "guid": "",
       "height": "auto",
       "hideCommandCode": false,
       "hideCommandResult": false,
       "iPythonMetadata": null,
       "inputWidgets": {},
       "isLockedInExamMode": false,
       "latestUser": "a user",
       "latestUserId": null,
       "listResultMetadata": [
        [
         "mimeBundle",
         null
        ]
       ],
       "metadata": {
        "byteLimit": 2048000,
        "rowLimit": 10000
       },
       "nuid": "b57078c0-321f-4ac8-82a3-21f1f8d26588",
       "origId": 0,
       "parentHierarchy": [],
       "pivotAggregation": null,
       "pivotColumns": null,
       "position": 4.0,
       "resultDbfsErrorMessage": null,
       "resultDbfsStatus": "INLINED_IN_TREE",
       "results": {
        "arguments": {},
        "data": "Failed to fetch the result.",
        "metadata": {},
        "type": "raw"
       },
       "showCommandTitle": false,
       "startTime": 1724919130637,
       "state": "finished",
       "streamStates": {},
       "subcommandOptions": null,
       "submitTime": 1724919130589,
       "subtype": "tableResultSubCmd.dataSummary",
       "tableResultIndex": 0,
       "useConsistentColors": false,
       "version": "CommandV1",
       "width": "auto",
       "workflows": [],
       "xColumns": null,
       "yColumns": null
      }
     },
     "output_type": "display_data"
    }
   ],
   "source": [
    "display(brands_df)"
   ]
  },
  {
   "cell_type": "code",
   "execution_count": 0,
   "metadata": {
    "application/vnd.databricks.v1+cell": {
     "cellMetadata": {},
     "inputWidgets": {},
     "nuid": "979ed4a3-776a-42fa-9cac-1bee89a49104",
     "showTitle": false,
     "title": ""
    }
   },
   "outputs": [],
   "source": []
  }
 ],
 "metadata": {
  "application/vnd.databricks.v1+notebook": {
   "dashboards": [],
   "environmentMetadata": null,
   "language": "python",
   "notebookMetadata": {
    "pythonIndentUnit": 4
   },
   "notebookName": "data-profiling-mostafa",
   "widgets": {}
  }
 },
 "nbformat": 4,
 "nbformat_minor": 0
}
