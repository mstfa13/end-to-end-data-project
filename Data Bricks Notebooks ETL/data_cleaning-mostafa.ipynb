{
 "cells": [
  {
   "cell_type": "code",
   "execution_count": 0,
   "metadata": {
    "application/vnd.databricks.v1+cell": {
     "cellMetadata": {
      "byteLimit": 2048000,
      "rowLimit": 10000
     },
     "inputWidgets": {},
     "nuid": "625c22ee-34c0-4ecd-a128-2ffc0e777acc",
     "showTitle": false,
     "title": ""
    }
   },
   "outputs": [],
   "source": [
    "spark.conf.set(\"fs.azure.account.key.adlsbikestoreinterns.blob.core.windows.net\", \"2A7Fbw9UkJ7R03r/x+uw6/JNClb4b73dpL+KGsIVfAOpJfRVBjH1rjMC2xLTj4uVCR/j8qgXfabp+AStWjlnNg==\")\n",
    "dbutils.secrets.listScopes()\n",
    "dbutils.secrets.list(scope = \"bikes-scope\")\n",
    "bikes_account_key = dbutils.secrets.get(scope = \"bikes-scope\", key = \"account-key\")\n",
    "spark.conf.set(\n",
    "    \"fs.azure.account.key.adlsbikestoreinterns.blob.core.windows.net\",\n",
    "    bikes_account_key\n",
    ")"
   ]
  },
  {
   "cell_type": "code",
   "execution_count": 0,
   "metadata": {
    "application/vnd.databricks.v1+cell": {
     "cellMetadata": {
      "byteLimit": 2048000,
      "rowLimit": 10000
     },
     "inputWidgets": {},
     "nuid": "7d5fb108-445c-48d3-8e3f-1990d622c7a8",
     "showTitle": false,
     "title": ""
    }
   },
   "outputs": [],
   "source": [
    "%run ./utilities"
   ]
  },
  {
   "cell_type": "code",
   "execution_count": 0,
   "metadata": {
    "application/vnd.databricks.v1+cell": {
     "cellMetadata": {
      "byteLimit": 2048000,
      "rowLimit": 10000
     },
     "inputWidgets": {},
     "nuid": "e0a8c285-8d46-4087-8fa2-1d0381efb249",
     "showTitle": false,
     "title": ""
    }
   },
   "outputs": [
    {
     "output_type": "execute_result",
     "data": {
      "text/plain": [
       "{'brands': DataFrame[brand_id: string, brand_name: string, time_stamp: string, process_id: string],\n",
       " 'order_items': DataFrame[order_id: string, item_id: string, product_id: string, quantity: string, list_price: string, discount: string, time_stamp: string, process_id: string],\n",
       " 'staffs': DataFrame[staff_id: string, first_name: string, last_name: string, email: string, phone: string, active: string, store_id: string, manager_id: string, time_stamp: string, process_id: string],\n",
       " 'categories': DataFrame[category_id: string, category_name: string, time_stamp: string, process_id: string],\n",
       " 'customers': DataFrame[customer_id: string, first_name: string, last_name: string, phone: string, email: string, street: string, city: string, state: string, zip_code: string, time_stamp: string, process_id: string],\n",
       " 'order': DataFrame[order_id: int, customer_id: int, order_status: int, order_date: string, required_date: string, shipped_date: string, store_id: int, staff_id: int, time_stamp: string, process_id: string],\n",
       " 'stores': DataFrame[store_id: string, store_name: string, phone: string, email: string, street: string, city: string, state: string, zip_code: string, time_stamp: string, process_id: string],\n",
       " 'products': DataFrame[product_id: string, product_name: string, brand_id: string, category_id: string, model_year: string, list_price: string, time_stamp: string, process_id: string]}"
      ]
     },
     "execution_count": 103,
     "metadata": {},
     "output_type": "execute_result"
    }
   ],
   "source": [
    "load_source_data(spark, metadata)"
   ]
  },
  {
   "cell_type": "code",
   "execution_count": 0,
   "metadata": {
    "application/vnd.databricks.v1+cell": {
     "cellMetadata": {
      "byteLimit": 2048000,
      "rowLimit": 10000
     },
     "inputWidgets": {},
     "nuid": "a1e79357-6449-4045-b568-4ee7d0df70c7",
     "showTitle": false,
     "title": ""
    }
   },
   "outputs": [],
   "source": [
    "dataframes = {}\n",
    "for df_name, df in [(df_name, globals()[df_name]) for df_name in dir() if df_name.endswith(\"_df\")]:\n",
    "    dataframes[df_name[:-3]] = df\n",
    "display(order_items_df)"
   ]
  },
  {
   "cell_type": "code",
   "execution_count": 0,
   "metadata": {
    "application/vnd.databricks.v1+cell": {
     "cellMetadata": {
      "byteLimit": 2048000,
      "rowLimit": 10000
     },
     "inputWidgets": {},
     "nuid": "e858c0eb-017b-491e-a8be-abb610718e33",
     "showTitle": false,
     "title": ""
    }
   },
   "outputs": [],
   "source": [
    "categories_df =handle_duplicates(categories_df,metadata=metadata,table_name='categories')\n",
    "categories_df = handle_nulls(categories_df,metadata=metadata,table_name='categories')"
   ]
  },
  {
   "cell_type": "code",
   "execution_count": 0,
   "metadata": {
    "application/vnd.databricks.v1+cell": {
     "cellMetadata": {
      "byteLimit": 2048000,
      "rowLimit": 10000
     },
     "inputWidgets": {},
     "nuid": "c8d007f7-2e66-4c1b-b176-1bc8886cb979",
     "showTitle": false,
     "title": ""
    }
   },
   "outputs": [],
   "source": [
    "customers_df =check_column_data_type(customers_df,'customers',metadata)"
   ]
  },
  {
   "cell_type": "code",
   "execution_count": 0,
   "metadata": {
    "application/vnd.databricks.v1+cell": {
     "cellMetadata": {
      "byteLimit": 2048000,
      "rowLimit": 10000
     },
     "inputWidgets": {},
     "nuid": "6b16a937-eba5-41e0-a639-fc83023d5fe8",
     "showTitle": false,
     "title": ""
    }
   },
   "outputs": [],
   "source": [
    "customers_df=standardize_name_case(customers_df,'first_name')\n",
    "customers_df=standardize_name_case(customers_df,'last_name')\n",
    "customers_df = handle_duplicates(customers_df, metadata, table_name ='customers')\n",
    "customers_df = handle_nulls(customers_df,metadata=metadata,table_name='customers')\n",
    "customers_df=handle_outliers(customers_df, metadata['table_name'],method='zscore')\n",
    "customers_df =handle_outliers(customers_df,metadata['table_name'], method='iqr')\n",
    "customers_df =check_column_data_type(customers_df,'customers',metadata)\n",
    "display(customers_df)"
   ]
  },
  {
   "cell_type": "code",
   "execution_count": 0,
   "metadata": {
    "application/vnd.databricks.v1+cell": {
     "cellMetadata": {
      "byteLimit": 2048000,
      "rowLimit": 10000
     },
     "inputWidgets": {},
     "nuid": "3ed787ae-86f4-48b1-b2e0-536343cd10ff",
     "showTitle": false,
     "title": ""
    }
   },
   "outputs": [],
   "source": [
    "#staffs_df = handle_duplicates(staffs_df, metadata, table_name ='staffs')\n",
    "#staffs_df=handle_nulls(staffs_df,metadata=metadata,table_name='staffs')"
   ]
  },
  {
   "cell_type": "code",
   "execution_count": 0,
   "metadata": {
    "application/vnd.databricks.v1+cell": {
     "cellMetadata": {
      "byteLimit": 2048000,
      "rowLimit": 10000
     },
     "inputWidgets": {},
     "nuid": "adec862e-2bd0-40d7-840b-311f44ca42ad",
     "showTitle": false,
     "title": ""
    }
   },
   "outputs": [],
   "source": [
    "order_df = handle_duplicates(order_df, metadata, table_name ='order')\n",
    "order_df = handle_nulls(order_df,metadata=metadata,table_name='order')"
   ]
  },
  {
   "cell_type": "code",
   "execution_count": 0,
   "metadata": {
    "application/vnd.databricks.v1+cell": {
     "cellMetadata": {
      "byteLimit": 2048000,
      "rowLimit": 10000
     },
     "inputWidgets": {},
     "nuid": "a32f4009-3920-44b5-9517-9fc6084ce6dc",
     "showTitle": false,
     "title": ""
    }
   },
   "outputs": [],
   "source": [
    "#order_items_df = handle_duplicates(order_items_df, metadata, table_name ='order_items')\n",
    "#order_items_df = handle_duplicates(order_items_df, metadata, table_name ='order_items')\n",
    "order_items_df = handle_outliers(order_items_df, column = 'list_price' , method='zscore')\n",
    "order_items_df = handle_outliers(order_items_df, column = 'quantity' , method='zscore')\n",
    "order_items_df = handle_outliers(order_items_df, column = 'discount' , method='zscore')\n",
    "display(order_items_df)"
   ]
  },
  {
   "cell_type": "code",
   "execution_count": 0,
   "metadata": {
    "application/vnd.databricks.v1+cell": {
     "cellMetadata": {
      "byteLimit": 2048000,
      "rowLimit": 10000
     },
     "inputWidgets": {},
     "nuid": "418f1ea5-cce7-4aa3-a2a2-a8df62e88d10",
     "showTitle": false,
     "title": ""
    }
   },
   "outputs": [],
   "source": [
    "brands_df =handle_duplicates(brands_df, metadata, table_name ='brands')\n",
    "brands_df=handle_nulls(brands_df,metadata=metadata,table_name='brands')"
   ]
  },
  {
   "cell_type": "code",
   "execution_count": 0,
   "metadata": {
    "application/vnd.databricks.v1+cell": {
     "cellMetadata": {
      "byteLimit": 2048000,
      "rowLimit": 10000
     },
     "inputWidgets": {},
     "nuid": "c1c5d663-e245-4a3a-b70f-133be0aac2cb",
     "showTitle": false,
     "title": ""
    }
   },
   "outputs": [],
   "source": [
    "products_df = handle_duplicates(products_df,metadata=metadata, table_name='products')\n",
    "products_df = handle_nulls(products_df,metadata=metadata,table_name='products')\n",
    "products_df = handle_outliers(products_df, column = 'model_year' , method='zscore')\n",
    "products_df = handle_outliers(products_df, column = 'list_price' , method='iqr')\n",
    "products_df = check_column_data_type(products_df, table_name='products_id', metadata_df=metadata)\n",
    "display(products_df)"
   ]
  },
  {
   "cell_type": "code",
   "execution_count": 0,
   "metadata": {
    "application/vnd.databricks.v1+cell": {
     "cellMetadata": {
      "byteLimit": 2048000,
      "rowLimit": 10000
     },
     "inputWidgets": {},
     "nuid": "0d43e325-f891-45f6-a5e4-cf5a490ccef8",
     "showTitle": false,
     "title": ""
    }
   },
   "outputs": [
    {
     "output_type": "display_data",
     "data": {
      "text/html": [
       "<style scoped>\n",
       "  .table-result-container {\n",
       "    max-height: 300px;\n",
       "    overflow: auto;\n",
       "  }\n",
       "  table, th, td {\n",
       "    border: 1px solid black;\n",
       "    border-collapse: collapse;\n",
       "  }\n",
       "  th, td {\n",
       "    padding: 5px;\n",
       "  }\n",
       "  th {\n",
       "    text-align: left;\n",
       "  }\n",
       "</style><div class='table-result-container'><table class='table-result'><thead style='background-color: white'><tr><th>store_id</th><th>store_name</th><th>phone</th><th>email</th><th>street</th><th>city</th><th>state</th><th>zip_code</th><th>time_stamp</th><th>process_id</th></tr></thead><tbody><tr><td>4</td><td>Mohamed Ali</td><td>NULL</td><td>Mohamed.d.ali@pwc.com</td><td>101 Good Morning</td><td>Cairo</td><td>NULL</td><td>11835</td><td>2024-08-29T19:54:49.7832203Z</td><td>914fbcbb-bfb6-48fd-a12f-48b89a59f9e2</td></tr><tr><td>2</td><td>Baldwin Bikes</td><td>(516) 379-8888</td><td>baldwin@bikes.shop</td><td>4200 Chestnut Lane</td><td>Baldwin</td><td>NY</td><td>11432</td><td>2024-08-29T19:54:49.7832203Z</td><td>914fbcbb-bfb6-48fd-a12f-48b89a59f9e2</td></tr><tr><td>3</td><td>Rowlett Bikes</td><td>(972) 530-5555</td><td>rowlett@bikes.shop</td><td>8000 Fairway Avenue</td><td>Rowlett</td><td>TX</td><td>75088</td><td>2024-08-29T19:54:49.7832203Z</td><td>914fbcbb-bfb6-48fd-a12f-48b89a59f9e2</td></tr><tr><td>1</td><td>Santa Cruz Bikes</td><td>(831) 476-4321</td><td>santacruz@bikes.shop</td><td>3700 Portola Drive</td><td>Santa Cruz</td><td>CA</td><td>95060</td><td>2024-08-29T19:54:49.7832203Z</td><td>914fbcbb-bfb6-48fd-a12f-48b89a59f9e2</td></tr></tbody></table></div>"
      ]
     },
     "metadata": {
      "application/vnd.databricks.v1+output": {
       "addedWidgets": {},
       "aggData": [],
       "aggError": "",
       "aggOverflow": false,
       "aggSchema": [],
       "aggSeriesLimitReached": false,
       "aggType": "",
       "arguments": {},
       "columnCustomDisplayInfos": {},
       "data": [
        [
         "4",
         "Mohamed Ali",
         "NULL",
         "Mohamed.d.ali@pwc.com",
         "101 Good Morning",
         "Cairo",
         "NULL",
         "11835",
         "2024-08-29T19:54:49.7832203Z",
         "914fbcbb-bfb6-48fd-a12f-48b89a59f9e2"
        ],
        [
         "2",
         "Baldwin Bikes",
         "(516) 379-8888",
         "baldwin@bikes.shop",
         "4200 Chestnut Lane",
         "Baldwin",
         "NY",
         "11432",
         "2024-08-29T19:54:49.7832203Z",
         "914fbcbb-bfb6-48fd-a12f-48b89a59f9e2"
        ],
        [
         "3",
         "Rowlett Bikes",
         "(972) 530-5555",
         "rowlett@bikes.shop",
         "8000 Fairway Avenue",
         "Rowlett",
         "TX",
         "75088",
         "2024-08-29T19:54:49.7832203Z",
         "914fbcbb-bfb6-48fd-a12f-48b89a59f9e2"
        ],
        [
         "1",
         "Santa Cruz Bikes",
         "(831) 476-4321",
         "santacruz@bikes.shop",
         "3700 Portola Drive",
         "Santa Cruz",
         "CA",
         "95060",
         "2024-08-29T19:54:49.7832203Z",
         "914fbcbb-bfb6-48fd-a12f-48b89a59f9e2"
        ]
       ],
       "datasetInfos": [],
       "dbfsResultPath": null,
       "isJsonSchema": true,
       "metadata": {},
       "overflow": false,
       "plotOptions": {
        "customPlotOptions": {},
        "displayType": "table",
        "pivotAggregation": null,
        "pivotColumns": null,
        "xColumns": null,
        "yColumns": null
       },
       "removedWidgets": [],
       "schema": [
        {
         "metadata": "{}",
         "name": "store_id",
         "type": "\"string\""
        },
        {
         "metadata": "{}",
         "name": "store_name",
         "type": "\"string\""
        },
        {
         "metadata": "{}",
         "name": "phone",
         "type": "\"string\""
        },
        {
         "metadata": "{}",
         "name": "email",
         "type": "\"string\""
        },
        {
         "metadata": "{}",
         "name": "street",
         "type": "\"string\""
        },
        {
         "metadata": "{}",
         "name": "city",
         "type": "\"string\""
        },
        {
         "metadata": "{}",
         "name": "state",
         "type": "\"string\""
        },
        {
         "metadata": "{}",
         "name": "zip_code",
         "type": "\"string\""
        },
        {
         "metadata": "{}",
         "name": "time_stamp",
         "type": "\"string\""
        },
        {
         "metadata": "{}",
         "name": "process_id",
         "type": "\"string\""
        }
       ],
       "type": "table"
      }
     },
     "output_type": "display_data"
    }
   ],
   "source": [
    "stores_df = handle_duplicates(stores_df ,metadata = metadata, table_name='stores' )\n",
    "stores_df = handle_nulls(stores_df ,metadata = metadata, table_name='stores' )\n",
    "display(stores_df)"
   ]
  },
  {
   "cell_type": "code",
   "execution_count": 0,
   "metadata": {
    "application/vnd.databricks.v1+cell": {
     "cellMetadata": {
      "byteLimit": 2048000,
      "rowLimit": 10000
     },
     "inputWidgets": {},
     "nuid": "09ea5726-0852-4eb2-9bd0-9621c1b58a13",
     "showTitle": false,
     "title": ""
    }
   },
   "outputs": [],
   "source": [
    "for table_name, df in dataframes.items():\n",
    "    # Write the cleaned DataFrame to a Delta table in ADF storage account\n",
    "    df.write.format(\"delta\").mode(\"overwrite\").option(\"overwriteSchema\", \"true\").save(f\"wasbs://dlbikestorestage1@adlsbikestoreinterns.blob.core.windows.net/mostafa/{table_name}/\")"
   ]
  },
  {
   "cell_type": "code",
   "execution_count": 0,
   "metadata": {
    "application/vnd.databricks.v1+cell": {
     "cellMetadata": {
      "byteLimit": 2048000,
      "rowLimit": 10000
     },
     "inputWidgets": {},
     "nuid": "45553b9b-8c22-4d02-8591-e71b040b51ae",
     "showTitle": false,
     "title": ""
    }
   },
   "outputs": [],
   "source": []
  }
 ],
 "metadata": {
  "application/vnd.databricks.v1+notebook": {
   "dashboards": [],
   "environmentMetadata": null,
   "language": "python",
   "notebookMetadata": {
    "pythonIndentUnit": 4
   },
   "notebookName": "data_cleaning-mostafa",
   "widgets": {}
  }
 },
 "nbformat": 4,
 "nbformat_minor": 0
}
