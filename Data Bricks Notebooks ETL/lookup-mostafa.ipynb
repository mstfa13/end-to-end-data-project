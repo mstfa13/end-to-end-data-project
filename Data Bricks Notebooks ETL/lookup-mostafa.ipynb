{
 "cells": [
  {
   "cell_type": "code",
   "execution_count": 0,
   "metadata": {
    "application/vnd.databricks.v1+cell": {
     "cellMetadata": {
      "byteLimit": 2048000,
      "rowLimit": 10000
     },
     "inputWidgets": {},
     "nuid": "59e7d2c8-9b4c-499b-a58b-40bf0b18e6b0",
     "showTitle": false,
     "title": ""
    }
   },
   "outputs": [],
   "source": [
    "from pyspark.sql import SparkSession\n",
    "from pyspark.sql.functions import *\n",
    "from pyspark import Row\n",
    "from pyspark.sql.types import IntegerType, StringType, StructType, StructField\n",
    "from pyspark.sql import functions as F\n",
    "from pyspark.sql.functions import monotonically_increasing_id\n",
    "from pyspark.sql.window import Window\n",
    "from pyspark.sql.functions import col, dayofmonth, weekofyear, month, quarter, year, date_format\n"
   ]
  },
  {
   "cell_type": "code",
   "execution_count": 0,
   "metadata": {
    "application/vnd.databricks.v1+cell": {
     "cellMetadata": {
      "byteLimit": 2048000,
      "rowLimit": 10000
     },
     "inputWidgets": {},
     "nuid": "1f51a942-07b1-42ce-979d-40d6112a9675",
     "showTitle": false,
     "title": ""
    }
   },
   "outputs": [],
   "source": []
  },
  {
   "cell_type": "code",
   "execution_count": 0,
   "metadata": {
    "application/vnd.databricks.v1+cell": {
     "cellMetadata": {
      "byteLimit": 2048000,
      "rowLimit": 10000
     },
     "inputWidgets": {},
     "nuid": "e3905749-840e-4213-bc5b-ac428c4ee895",
     "showTitle": false,
     "title": ""
    }
   },
   "outputs": [],
   "source": [
    "spark = SparkSession.builder.appName(\"OrderStatusLookup\").getOrCreate()"
   ]
  },
  {
   "cell_type": "code",
   "execution_count": 0,
   "metadata": {
    "application/vnd.databricks.v1+cell": {
     "cellMetadata": {
      "byteLimit": 2048000,
      "rowLimit": 10000
     },
     "inputWidgets": {},
     "nuid": "4fc7cb2d-7d7b-48a3-aff1-8fef6fa7703e",
     "showTitle": false,
     "title": ""
    }
   },
   "outputs": [],
   "source": [
    "\n",
    "schema = StructType([\n",
    "    StructField(\"order_status_id\", IntegerType(), True),\n",
    "    StructField(\"order_status_description\", StringType(), True)\n",
    "])"
   ]
  },
  {
   "cell_type": "code",
   "execution_count": 0,
   "metadata": {
    "application/vnd.databricks.v1+cell": {
     "cellMetadata": {
      "byteLimit": 2048000,
      "rowLimit": 10000
     },
     "collapsed": true,
     "inputWidgets": {},
     "nuid": "cc20a6d5-233b-4d87-8811-237bebac25d1",
     "showTitle": false,
     "title": ""
    }
   },
   "outputs": [
    {
     "output_type": "stream",
     "name": "stdout",
     "output_type": "stream",
     "text": [
      "{1: 'Pending', 2: 'Processing', 3: 'Rejected', 4: 'Completed'}\n"
     ]
    }
   ],
   "source": [
    "\n",
    "order_status_lookup = {\n",
    "    1: \"Pending\",\n",
    "    2: \"Processing\",\n",
    "    3: \"Rejected\",\n",
    "    4: \"Completed\"\n",
    "}\n",
    "\n",
    "print(order_status_lookup)"
   ]
  },
  {
   "cell_type": "code",
   "execution_count": 0,
   "metadata": {
    "application/vnd.databricks.v1+cell": {
     "cellMetadata": {
      "byteLimit": 2048000,
      "rowLimit": 10000
     },
     "inputWidgets": {},
     "nuid": "c6b31c74-1fd6-450d-8f17-2ccba3f335a4",
     "showTitle": false,
     "title": ""
    }
   },
   "outputs": [
    {
     "output_type": "stream",
     "name": "stdout",
     "output_type": "stream",
     "text": [
      "+---------------+------------------------+\n|order_status_id|order_status_description|\n+---------------+------------------------+\n|              1|                 Pending|\n|              2|              Processing|\n|              3|                Rejected|\n|              4|               Completed|\n+---------------+------------------------+\n\n"
     ]
    }
   ],
   "source": [
    "\n",
    "order_status_df = spark.createDataFrame(order_status_lookup.items(), [\"order_status_id\", \"order_status_description\"])\n",
    "\n",
    "order_status_df.show()\n"
   ]
  },
  {
   "cell_type": "code",
   "execution_count": 0,
   "metadata": {
    "application/vnd.databricks.v1+cell": {
     "cellMetadata": {
      "byteLimit": 2048000,
      "rowLimit": 10000
     },
     "inputWidgets": {},
     "nuid": "28f3232f-47aa-4e30-b7a9-9410b77cb3bf",
     "showTitle": false,
     "title": ""
    }
   },
   "outputs": [],
   "source": [
    "date_df = spark.sql(\"SELECT explode(sequence(to_date('2016-01-01'), to_date('2019-1-1'), interval 1 day)) AS date\")"
   ]
  },
  {
   "cell_type": "code",
   "execution_count": 0,
   "metadata": {
    "application/vnd.databricks.v1+cell": {
     "cellMetadata": {
      "byteLimit": 2048000,
      "rowLimit": 10000
     },
     "collapsed": true,
     "inputWidgets": {},
     "nuid": "08ee39ba-ec5b-47f8-8770-c4e980b51dbf",
     "showTitle": false,
     "title": ""
    }
   },
   "outputs": [],
   "source": [
    "display(date_df)"
   ]
  },
  {
   "cell_type": "code",
   "execution_count": 0,
   "metadata": {
    "application/vnd.databricks.v1+cell": {
     "cellMetadata": {
      "byteLimit": 2048000,
      "rowLimit": 10000
     },
     "inputWidgets": {},
     "nuid": "0d9b6922-42f1-43f5-985b-dd78c639c65e",
     "showTitle": false,
     "title": ""
    }
   },
   "outputs": [],
   "source": [
    "date_df = date_df.withColumn(\"date_id\", row_number().over(Window.orderBy(\"date\")).astype(\"int\"))"
   ]
  },
  {
   "cell_type": "code",
   "execution_count": 0,
   "metadata": {
    "application/vnd.databricks.v1+cell": {
     "cellMetadata": {
      "byteLimit": 2048000,
      "rowLimit": 10000
     },
     "inputWidgets": {},
     "nuid": "cd5cacdb-f24a-4d2a-893a-3972a601ea70",
     "showTitle": false,
     "title": ""
    }
   },
   "outputs": [],
   "source": [
    "# Rearranging the columns so that date_id is first\n",
    "date_df = date_df[['date_id', 'date']]\n",
    "display(date_df)"
   ]
  },
  {
   "cell_type": "code",
   "execution_count": 0,
   "metadata": {
    "application/vnd.databricks.v1+cell": {
     "cellMetadata": {
      "byteLimit": 2048000,
      "rowLimit": 10000
     },
     "inputWidgets": {},
     "nuid": "0ab08b00-4e95-4d1d-a31c-f423bbcc4513",
     "showTitle": false,
     "title": ""
    }
   },
   "outputs": [],
   "source": [
    "# Extract day, week, month, quarter, year, and day name\n",
    "date_df = date_df.withColumn('day', dayofmonth(col('date')))\n",
    "date_df = date_df.withColumn('week', weekofyear(col('date')))\n",
    "date_df = date_df.withColumn('month', month(col('date')))\n",
    "date_df = date_df.withColumn('quarter', quarter(col('date')))\n",
    "date_df = date_df.withColumn('year', year(col('date')))\n",
    "date_df = date_df.withColumn('day_name', date_format(col('date'), 'EEEE'))\n",
    "date_df = date_df.withColumn('month_name', date_format(col('date'), 'MMMM'))"
   ]
  },
  {
   "cell_type": "markdown",
   "metadata": {
    "application/vnd.databricks.v1+cell": {
     "cellMetadata": {},
     "inputWidgets": {},
     "nuid": "82a48401-eec5-47b1-950a-e7968f8de252",
     "showTitle": false,
     "title": ""
    }
   },
   "source": [
    "if the year starts on a Thursday or is a leap year that starts on a Wednesday, that particular year will have 53 numbered weeks."
   ]
  },
  {
   "cell_type": "code",
   "execution_count": 0,
   "metadata": {
    "application/vnd.databricks.v1+cell": {
     "cellMetadata": {
      "byteLimit": 2048000,
      "rowLimit": 10000
     },
     "collapsed": true,
     "inputWidgets": {},
     "nuid": "8fef9973-32d5-452c-afef-0cf3d132641d",
     "showTitle": false,
     "title": ""
    }
   },
   "outputs": [],
   "source": [
    "display(date_df)"
   ]
  },
  {
   "cell_type": "code",
   "execution_count": 0,
   "metadata": {
    "application/vnd.databricks.v1+cell": {
     "cellMetadata": {},
     "inputWidgets": {},
     "nuid": "2592bd26-8c12-4ded-a306-f78745916157",
     "showTitle": false,
     "title": ""
    }
   },
   "outputs": [],
   "source": []
  },
  {
   "cell_type": "code",
   "execution_count": 0,
   "metadata": {
    "application/vnd.databricks.v1+cell": {
     "cellMetadata": {},
     "inputWidgets": {},
     "nuid": "1aa8ea70-4c97-4718-9a39-aa33d1b4cae7",
     "showTitle": false,
     "title": ""
    }
   },
   "outputs": [],
   "source": []
  },
  {
   "cell_type": "code",
   "execution_count": 0,
   "metadata": {
    "application/vnd.databricks.v1+cell": {
     "cellMetadata": {
      "byteLimit": 2048000,
      "rowLimit": 10000
     },
     "inputWidgets": {},
     "nuid": "46b84b0b-606b-4707-b623-368ecae0088b",
     "showTitle": false,
     "title": ""
    }
   },
   "outputs": [],
   "source": [
    "order_status_df.write.mode(\"overwrite\").saveAsTable(\"order_status_lookup\")"
   ]
  },
  {
   "cell_type": "code",
   "execution_count": 0,
   "metadata": {
    "application/vnd.databricks.v1+cell": {
     "cellMetadata": {
      "byteLimit": 2048000,
      "rowLimit": 10000
     },
     "inputWidgets": {},
     "nuid": "4c9fac23-33a0-4310-9cee-d3712af6dd4c",
     "showTitle": false,
     "title": ""
    }
   },
   "outputs": [],
   "source": [
    "\n",
    "# Set the Azure storage account key\n",
    "spark.conf.set(\n",
    "    \"fs.azure.account.key.adlsbikestoreinterns.blob.core.windows.net\",\n",
    "    dbutils.secrets.get(scope=\"bikes-scope\", key=\"account-key\")\n",
    ")"
   ]
  },
  {
   "cell_type": "code",
   "execution_count": 0,
   "metadata": {
    "application/vnd.databricks.v1+cell": {
     "cellMetadata": {
      "byteLimit": 2048000,
      "rowLimit": 10000
     },
     "inputWidgets": {},
     "nuid": "39ddbc5b-3fa8-4fb6-b7f3-75b3f98c75e3",
     "showTitle": false,
     "title": ""
    }
   },
   "outputs": [],
   "source": [
    "# Step 5: Save the DataFrame as a Delta table\n",
    "order_status_df.write.format(\"delta\").mode(\"overwrite\").option(\"overwriteSchema\", \"true\").save(\n",
    "        f\"wasbs://dlbikestorestage2@adlsbikestoreinterns.blob.core.windows.net/mostafa/status_lookup\"\n",
    "    )"
   ]
  },
  {
   "cell_type": "code",
   "execution_count": 0,
   "metadata": {
    "application/vnd.databricks.v1+cell": {
     "cellMetadata": {
      "byteLimit": 2048000,
      "rowLimit": 10000
     },
     "inputWidgets": {},
     "nuid": "45e1badb-8fe1-41ad-a6c8-47308404d3c5",
     "showTitle": false,
     "title": ""
    }
   },
   "outputs": [],
   "source": [
    "date_df.write.format(\"delta\").mode(\"overwrite\").option(\"overwriteSchema\", \"true\").save(\n",
    "        f\"wasbs://dlbikestorestage2@adlsbikestoreinterns.blob.core.windows.net/mostafa/date_lookup\"\n",
    "    )"
   ]
  },
  {
   "cell_type": "code",
   "execution_count": 0,
   "metadata": {
    "application/vnd.databricks.v1+cell": {
     "cellMetadata": {},
     "inputWidgets": {},
     "nuid": "623e9f2a-0be5-4829-93ae-791cd1ca7ad5",
     "showTitle": false,
     "title": ""
    }
   },
   "outputs": [],
   "source": []
  }
 ],
 "metadata": {
  "application/vnd.databricks.v1+notebook": {
   "dashboards": [],
   "environmentMetadata": null,
   "language": "python",
   "notebookMetadata": {
    "pythonIndentUnit": 4
   },
   "notebookName": "lookup-mostafa",
   "widgets": {}
  }
 },
 "nbformat": 4,
 "nbformat_minor": 0
}
